{
 "cells": [
  {
   "cell_type": "markdown",
   "id": "ac71c23b",
   "metadata": {},
   "source": [
    "# Introduction to Python — Workshop Notebook\n",
    "\n",
    "This notebook is your indispensable companion throughout the session, serving as your tool for hands-on tasks, experimenting with Python syntax, and diving into engaging exercises. Whether you're a seasoned coder or just starting your Python adventure, this notebook will be your trusted guide as we explore and expand our Python knowledge together. So, let's get ready to roll up our sleeves, explore new concepts, and make the most of this workshop."
   ]
  },
  {
   "cell_type": "markdown",
   "id": "35e7436e",
   "metadata": {},
   "source": [
    "# 0. Setup\n",
    "\n",
    "We'll use pandas and matplotlib libraries. If you don't have them pre-installed, you can install them by running the following code:"
   ]
  },
  {
   "cell_type": "code",
   "execution_count": null,
   "id": "56f15a66",
   "metadata": {},
   "outputs": [],
   "source": [
    "pip install pandas matplotlib numpy"
   ]
  },
  {
   "cell_type": "markdown",
   "id": "05934985",
   "metadata": {},
   "source": [
    "# 1. Getting Started with JupyterLab\n",
    "\n",
    "### Useful JupyterLab Tips\n",
    "\n",
    "- Jupyter has two modes: Edit mode (enter a cell to edit or press <kbd>Enter</kbd>/<kbd>Return</kbd>) and Command mode (press <kbd>Esc</kbd> to enable notebook-level shortcuts).\n",
    "- Open the full list: Help → Keyboard Shortcuts.\n",
    "\n",
    "#### Common shortcuts in Command mode\n",
    "\n",
    "- **Navigation:** <kbd>Up</kbd>/<kbd>Down</kbd> or <kbd>K</kbd>/<kbd>J</kbd> to move between cells; <kbd>Enter</kbd> to switch to Edit mode (same on Windows / macOS).\n",
    "- **Run cells:**\n",
    "    - Run and move to next: <kbd>Shift</kbd>+<kbd>Enter</kbd> / <kbd>Cmd</kbd>+<kbd>Return</kbd>.\n",
    "    - Run in place: <kbd>Ctrl</kbd>+<kbd>Enter</kbd> / <kbd>Cmd</kbd>+<kbd>Enter</kbd> — run without moving.\n",
    "    - Run and insert cell below: <kbd>Alt</kbd>+<kbd>Enter</kbd> / <kbd>Option</kbd>+<kbd>Enter</kbd>.\n",
    "- Save: <kbd>S</kbd> (command mode) / <kbd>Ctrl</kbd>+<kbd>S</kbd> (Windows) / <kbd>Cmd</kbd>+<kbd>S</kbd> (macOS).\n",
    "- Create cells: <kbd>A</kbd> (above) / <kbd>B</kbd> (below) — same on Windows / macOS.\n",
    "- Edit operations: <kbd>X</kbd> (cut) / <kbd>C</kbd> (copy) / <kbd>V</kbd> (paste) / <kbd>D</kbd>,<kbd>D</kbd> (press <kbd>D</kbd> twice to delete) — same on Windows / macOS.\n",
    "- Undo/restore cell delete: <kbd>Z</kbd> — same on Windows / macOS.\n",
    "- Change cell type: <kbd>Y</kbd> (code) / <kbd>M</kbd> (markdown) / <kbd>R</kbd> (raw); <kbd>1</kbd>–<kbd>6</kbd> for heading levels when editing a markdown cell — same on Windows / macOS.\n",
    "- Helpful keys: <kbd>H</kbd> or open Help → Keyboard Shortcuts for details (behavior may vary between Notebook and Lab interfaces)\n",
    "\n",
    "<div class=\"alert alert-block alert-info\">\n",
    "<b>Tip:</b>\n",
    "Save often and learn a few navigation and run shortcuts — they speed up interactive work significantly.\n",
    "</div>"
   ]
  },
  {
   "cell_type": "markdown",
   "id": "aa78ee97",
   "metadata": {},
   "source": [
    "## Markdown on Jupyter Notebooks"
   ]
  },
  {
   "cell_type": "markdown",
   "id": "009d4498",
   "metadata": {},
   "source": [
    "*   Use asterisks\n",
    "*   to create\n",
    "*   bullet lists."
   ]
  },
  {
   "cell_type": "markdown",
   "id": "e6ead7fa",
   "metadata": {},
   "source": [
    "1.   Use numbers\n",
    "1.   to create\n",
    "1.   bullet lists."
   ]
  },
  {
   "cell_type": "markdown",
   "id": "06a1af92",
   "metadata": {},
   "source": [
    "*  You can use indents\n",
    "    *  To create sublists\n",
    "    *  of the same type\n",
    "*  Or sublists\n",
    "    1. Of different\n",
    "    1. types"
   ]
  },
  {
   "cell_type": "markdown",
   "id": "a68b90c1",
   "metadata": {},
   "source": [
    "# A Level-1 Heading\n",
    "\n",
    "## A Level-2 Heading \n",
    "\n",
    "### A Level-3 Heading"
   ]
  },
  {
   "cell_type": "markdown",
   "id": "ab681d3e",
   "metadata": {},
   "source": [
    "Line breaks\n",
    "don't matter.\n",
    "\n",
    "But blank lines\n",
    "create new paragraphs."
   ]
  },
  {
   "cell_type": "markdown",
   "id": "901e61f2",
   "metadata": {},
   "source": [
    "[Links](http://software-carpentry.org)\n",
    "are created with `[...](...)`.\n",
    "Or use [named links][data-carp].\n",
    "\n",
    "[data-carp]: http://datacarpentry.org"
   ]
  },
  {
   "cell_type": "markdown",
   "id": "20890622",
   "metadata": {},
   "source": [
    "### Challenge: Creating Lists in Markdown\n",
    "\n",
    "Create a nested list in a Markdown cell in a notebook that looks like this:\n",
    "\n",
    "1. Get funding.\n",
    "2. Do work.\n",
    "    - Design experiment.\n",
    "    - Collect data.\n",
    "    - Analyze.\n",
    "3. Write up.\n",
    "4. Publish."
   ]
  },
  {
   "cell_type": "markdown",
   "id": "9b6f10e4",
   "metadata": {},
   "source": [
    "### Challenge: More Math\n",
    "\n",
    "What is displayed when a Python cell in a notebook\n",
    "that contains several calculations is executed?\n",
    "For example, what happens when this cell is executed?\n",
    "\n",
    "```python\n",
    "7 * 3\n",
    "2 + 1\n",
    "```"
   ]
  },
  {
   "cell_type": "code",
   "execution_count": null,
   "id": "74a8767e",
   "metadata": {},
   "outputs": [],
   "source": []
  },
  {
   "cell_type": "markdown",
   "id": "3be6af61",
   "metadata": {},
   "source": [
    "### Challenge: Change an Existing Cell from Code to Markdown\n",
    "\n",
    "What happens if you write some Python in a code cell\n",
    "and then you switch it to a Markdown cell?\n",
    "For example,\n",
    "put the following in a code cell:\n",
    "\n",
    "```python\n",
    "x = 6 * 7 + 12\n",
    "print(x)\n",
    "```\n",
    "\n",
    "And then run it with <kbd>Shift</kbd>\\+<kbd>Enter</kbd> to be sure that it works as a code cell.\n",
    "Now go back to the cell and use <kbd>Esc</kbd> then <kbd>m</kbd> to switch the cell to Markdown\n",
    "and \"run\" it with <kbd>Shift</kbd>\\+<kbd>Enter</kbd>.\n",
    "What happened and how might this be useful?"
   ]
  },
  {
   "cell_type": "markdown",
   "id": "8512d27d",
   "metadata": {},
   "source": [
    "## Closing JupyterLab\n",
    "\n",
    "Practice closing and restarting the JupyterLab server."
   ]
  },
  {
   "cell_type": "markdown",
   "id": "503bdae8",
   "metadata": {},
   "source": [
    "# 2. Python Fundamentals\n",
    "\n",
    "In this section you’ll warm up with the core building blocks of Python. We’ll use the notebook as a calculator to practice operator precedence, create and update variables to store numbers and text, print results cleanly, inspect data types with `type()` to understand how Python treats different values, and use the built‑in `help()` to discover what functions do and how to call them. These basics are the foundation for everything we’ll do next with data."
   ]
  },
  {
   "cell_type": "markdown",
   "id": "35c342d3",
   "metadata": {},
   "source": [
    "## Variables\n",
    "\n",
    "Any Python interpreter can be used as a calculator:"
   ]
  },
  {
   "cell_type": "code",
   "execution_count": null,
   "id": "4aba9e93",
   "metadata": {},
   "outputs": [],
   "source": []
  },
  {
   "cell_type": "markdown",
   "id": "bff73eff",
   "metadata": {},
   "source": [
    "For example, we can track the weight of a patient who weighs 60 kilograms by\n",
    "assigning the value `60` to a variable `weight_kg`:"
   ]
  },
  {
   "cell_type": "code",
   "execution_count": null,
   "id": "5e429fda",
   "metadata": {},
   "outputs": [],
   "source": []
  },
  {
   "cell_type": "markdown",
   "id": "53766a94",
   "metadata": {},
   "source": [
    "## Types of Data\n",
    "\n",
    "If we want to more precisely track the weight of our patient, we can use a floating point value by executing:"
   ]
  },
  {
   "cell_type": "code",
   "execution_count": null,
   "id": "72cafd1c",
   "metadata": {},
   "outputs": [],
   "source": []
  },
  {
   "cell_type": "markdown",
   "id": "57819afa",
   "metadata": {},
   "source": [
    "To identify and track a patient throughout our study, we can assign each person a unique identifier by storing it in a string:"
   ]
  },
  {
   "cell_type": "code",
   "execution_count": null,
   "id": "d41d153b",
   "metadata": {},
   "outputs": [],
   "source": []
  },
  {
   "cell_type": "markdown",
   "id": "f5d4b45a",
   "metadata": {},
   "source": [
    "## Using Variables in Python\n",
    "\n",
    "We may want to store our patient's weight in pounds as well as kilograms:"
   ]
  },
  {
   "cell_type": "code",
   "execution_count": null,
   "id": "426afd46",
   "metadata": {},
   "outputs": [],
   "source": []
  },
  {
   "cell_type": "markdown",
   "id": "7c59a4e8",
   "metadata": {},
   "source": [
    "We might decide to add a prefix to our patient identifier:"
   ]
  },
  {
   "cell_type": "code",
   "execution_count": null,
   "id": "0892444d",
   "metadata": {},
   "outputs": [],
   "source": []
  },
  {
   "cell_type": "markdown",
   "id": "cb32ec3e",
   "metadata": {},
   "source": [
    "\n",
    "## Built-in Python Functions\n",
    "\n",
    "To display information to the screen, we use the `print` function:"
   ]
  },
  {
   "cell_type": "code",
   "execution_count": null,
   "id": "b21a7954",
   "metadata": {},
   "outputs": [],
   "source": []
  },
  {
   "cell_type": "markdown",
   "id": "10717ffa",
   "metadata": {},
   "source": [
    "We can display multiple things at once using only one `print` call:"
   ]
  },
  {
   "cell_type": "code",
   "execution_count": null,
   "id": "27d9348c",
   "metadata": {},
   "outputs": [],
   "source": []
  },
  {
   "cell_type": "markdown",
   "id": "366e73b5",
   "metadata": {},
   "source": [
    "Python has a built-in function called `type` that tells you a value's data type:"
   ]
  },
  {
   "cell_type": "code",
   "execution_count": null,
   "id": "da5f6140",
   "metadata": {},
   "outputs": [],
   "source": []
  },
  {
   "cell_type": "markdown",
   "id": "ff193c47",
   "metadata": {},
   "source": [
    "We can do arithmetic with variables right inside the `print` function:"
   ]
  },
  {
   "cell_type": "code",
   "execution_count": null,
   "id": "b862376d",
   "metadata": {},
   "outputs": [],
   "source": []
  },
  {
   "cell_type": "markdown",
   "id": "f0f981b8",
   "metadata": {},
   "source": [
    "The above command, however, did not change the value of `weight_kg`:"
   ]
  },
  {
   "cell_type": "code",
   "execution_count": null,
   "id": "c50688a9",
   "metadata": {},
   "outputs": [],
   "source": []
  },
  {
   "cell_type": "markdown",
   "id": "434bad98",
   "metadata": {},
   "source": [
    "To change the value of the `weight_kg` variable, we have to **assign** `weight_kg` a new value using the equals `=` sign:"
   ]
  },
  {
   "cell_type": "code",
   "execution_count": null,
   "id": "cd337abb",
   "metadata": {},
   "outputs": [],
   "source": []
  },
  {
   "cell_type": "markdown",
   "id": "6ccb931e",
   "metadata": {},
   "source": [
    "## Getting Help\n",
    "\n",
    "Use the built-in function `help` to get help for a function.\n",
    "Every built-in function has extensive [documentation that can also be found online](https://docs.python.org/3/library/index.html)."
   ]
  },
  {
   "cell_type": "code",
   "execution_count": null,
   "id": "85ad1d85",
   "metadata": {},
   "outputs": [],
   "source": []
  },
  {
   "cell_type": "markdown",
   "id": "27e724ab",
   "metadata": {},
   "source": [
    "### Challenge: Check Your Understanding\n",
    "\n",
    "What values do the variables mass and age have after each of the following statements? Run them to check.\n",
    "\n",
    "```python\n",
    "mass = 47.5\n",
    "age = 122\n",
    "mass = mass * 2.0\n",
    "age = age - 20\n",
    "```"
   ]
  },
  {
   "cell_type": "code",
   "execution_count": null,
   "id": "2fa2276f",
   "metadata": {},
   "outputs": [],
   "source": []
  },
  {
   "cell_type": "markdown",
   "id": "bc5939c0",
   "metadata": {},
   "source": [
    "### Challenge: Sorting Out References\n",
    "\n",
    "Python allows you to assign multiple values to multiple variables in one line by separating\n",
    "the variables and values with commas. What does the following program print out?\n",
    "\n",
    "```python\n",
    "first, second = 'Grace', 'Hopper'\n",
    "third, fourth = second, first\n",
    "print(third, fourth)\n",
    "```"
   ]
  },
  {
   "cell_type": "code",
   "execution_count": null,
   "id": "ca294980",
   "metadata": {},
   "outputs": [],
   "source": []
  },
  {
   "cell_type": "markdown",
   "id": "950e8a06",
   "metadata": {},
   "source": [
    "### Challenge: Seeing Data Types\n",
    "What are the data types of the following variables?\n",
    "\n",
    "```python\n",
    "planet = 'Earth'\n",
    "apples = 5\n",
    "distance = 10.5\n",
    "```"
   ]
  },
  {
   "cell_type": "code",
   "execution_count": null,
   "id": "9f03c835",
   "metadata": {},
   "outputs": [],
   "source": []
  },
  {
   "cell_type": "markdown",
   "id": "8e2b7c66",
   "metadata": {},
   "source": [
    "# 3. Loading and Viewing Patient Data\n",
    "\n",
    "In this section you’ll use pandas to load tabular clinical and gene‑expression data and do quick sanity checks before analysis. We’ll import the library, read CSV files directly from a URL, choose a meaningful index, and explore the dataset with `head()`, `info()`, and `describe()`. You’ll practice selecting rows and columns with `.iloc` and `.loc`, and build simple boolean masks to filter patients. We’ll work with the METABRIC dataset so everything is ready for the analysis and plotting sections that follow."
   ]
  },
  {
   "cell_type": "markdown",
   "id": "92c5dbaf",
   "metadata": {},
   "source": [
    "## Loading Data into Python\n",
    "\n",
    "To tell Python that we'd like to start using Pandas, we need to import it:"
   ]
  },
  {
   "cell_type": "code",
   "execution_count": null,
   "id": "c112b5b7",
   "metadata": {},
   "outputs": [],
   "source": [
    "import pandas as pd"
   ]
  },
  {
   "cell_type": "markdown",
   "id": "651fd102",
   "metadata": {},
   "source": [
    "To open the help documentation for the `pandas` package, you can use the following code:"
   ]
  },
  {
   "cell_type": "code",
   "execution_count": null,
   "id": "3e49f231-803a-415d-8a30-96aff4e9edfc",
   "metadata": {},
   "outputs": [],
   "source": [
    "pd?"
   ]
  },
  {
   "cell_type": "markdown",
   "id": "bb562c04",
   "metadata": {},
   "source": [
    "Once we've imported the library, we can ask the library to read our data file for us:\n",
    "\n",
    "``` python\n",
    "pd.read_csv(\"path_to_file.csv\")\n",
    "\n",
    "# read a text file with values separated by spaces\n",
    "pd.read_csv(filepath_or_buffer=\"path_to_file.txt\", delimiter=' ')\n",
    "```\n",
    "\n",
    "You can also load data directly from a URL (web link) as follows:"
   ]
  },
  {
   "cell_type": "code",
   "execution_count": null,
   "id": "5e038a32",
   "metadata": {},
   "outputs": [],
   "source": [
    "pd.read_csv(\"https://zenodo.org/record/6450144/files/metabric_clinical_and_expression_data.csv\")"
   ]
  },
  {
   "cell_type": "markdown",
   "id": "c5b725f5",
   "metadata": {},
   "source": [
    "Let's re-run `pd.read_csv` and save the returned data:"
   ]
  },
  {
   "cell_type": "markdown",
   "id": "779ce8f9",
   "metadata": {},
   "source": [
    "This statement doesn't produce any output because we've assigned the output to the variable `metabric`. If we want to check that the data have been loaded, we can print the variable's value:"
   ]
  },
  {
   "cell_type": "code",
   "execution_count": null,
   "id": "87ec05a4",
   "metadata": {},
   "outputs": [],
   "source": [
    "metabric = pd.read_csv(\"https://zenodo.org/record/6450144/files/metabric_clinical_and_expression_data.csv\")"
   ]
  },
  {
   "cell_type": "markdown",
   "id": "7f55d0c1",
   "metadata": {},
   "source": [
    "First, let's ask what type of thing `metabric` refers to:"
   ]
  },
  {
   "cell_type": "code",
   "execution_count": null,
   "id": "e3795311",
   "metadata": {},
   "outputs": [],
   "source": [
    "type(metabric)"
   ]
  },
  {
   "cell_type": "markdown",
   "id": "6cfb0e57-6c0c-48fc-b0d4-be6ca60d11d6",
   "metadata": {},
   "source": [
    "Let's re-check our dataset."
   ]
  },
  {
   "cell_type": "code",
   "execution_count": null,
   "id": "cefad385-0897-4ce3-992c-3a3d19364298",
   "metadata": {},
   "outputs": [],
   "source": [
    "metabric"
   ]
  },
  {
   "cell_type": "markdown",
   "id": "6b42502c",
   "metadata": {},
   "source": [
    "Load the METABRIC dataset directly from the URL and set a meaningful index.\n",
    "\n",
    "1. Tell `read_csv()` to use a column as the index when you load the file using the `index_col` parameter."
   ]
  },
  {
   "cell_type": "code",
   "execution_count": null,
   "id": "ed03294b",
   "metadata": {},
   "outputs": [],
   "source": [
    "metabric_patients = pd.read_csv(\"https://zenodo.org/record/6450144/files/metabric_clinical_and_expression_data.csv\", index_col = 'Patient_ID')\n",
    "metabric_patients"
   ]
  },
  {
   "cell_type": "markdown",
   "id": "af0d5032",
   "metadata": {},
   "source": [
    "2. Load the data first and then call the DataFrame method `set_index()` to move a column into the index."
   ]
  },
  {
   "cell_type": "code",
   "execution_count": null,
   "id": "0f329bc5",
   "metadata": {},
   "outputs": [],
   "source": [
    "metabric_patients = metabric.set_index('Patient_ID')\n",
    "metabric_patients"
   ]
  },
  {
   "cell_type": "markdown",
   "id": "84528a09",
   "metadata": {},
   "source": [
    "To open the help page for DataFrame, you can use the following code:"
   ]
  },
  {
   "cell_type": "code",
   "execution_count": null,
   "id": "5af67697",
   "metadata": {},
   "outputs": [],
   "source": [
    "pd.DataFrame?\n",
    "metabric_patients?"
   ]
  },
  {
   "cell_type": "markdown",
   "id": "f846724f",
   "metadata": {},
   "source": [
    "\n",
    "## Viewing Data\n",
    "\n",
    "The `DataFrame` class offers multiple methods to view and interact with data. \n",
    "\n",
    "To get a quick look at the data you’ve loaded, you can use the `head()` method of a DataFrame. This method is especially useful when you want to preview the first few rows of a large dataset without displaying everything at once."
   ]
  },
  {
   "cell_type": "code",
   "execution_count": null,
   "id": "c94bc5b8",
   "metadata": {},
   "outputs": [],
   "source": [
    "metabric_patients.head()"
   ]
  },
  {
   "cell_type": "markdown",
   "id": "4292528e",
   "metadata": {},
   "source": [
    "Previewing the end of your data is a good way to confirm that your dataset loaded correctly and to spot any unexpected values or formatting issues at the bottom of your file."
   ]
  },
  {
   "cell_type": "code",
   "execution_count": null,
   "id": "34256666",
   "metadata": {},
   "outputs": [],
   "source": [
    "metabric_patients.tail()"
   ]
  },
  {
   "cell_type": "markdown",
   "id": "33841cd7",
   "metadata": {},
   "source": [
    "To get the **shape** of the DataFrame (i.e., the number of rows and columns), use:"
   ]
  },
  {
   "cell_type": "code",
   "execution_count": null,
   "id": "fdab0d18",
   "metadata": {},
   "outputs": [],
   "source": [
    "metabric_patients.shape"
   ]
  },
  {
   "cell_type": "markdown",
   "id": "008336cc",
   "metadata": {},
   "source": [
    "You can view the index or row labels using:"
   ]
  },
  {
   "cell_type": "code",
   "execution_count": null,
   "id": "7b8f2f9e-417e-464d-80da-1e20b09160cc",
   "metadata": {},
   "outputs": [],
   "source": [
    "metabric_patients.index"
   ]
  },
  {
   "cell_type": "markdown",
   "id": "78183373-75e8-4824-a3c4-cec76feae08f",
   "metadata": {},
   "source": [
    "To explore the structure of your data further, you can view the column names of your dataframe using the columns attribute. This will show you all the available fields in your dataset, which is helpful for exploring what information is present and for selecting columns in later analysis:"
   ]
  },
  {
   "cell_type": "code",
   "execution_count": null,
   "id": "13a7c472-3166-46a9-861d-8dcaac600a96",
   "metadata": {},
   "outputs": [],
   "source": [
    "metabric_patients.columns"
   ]
  },
  {
   "cell_type": "markdown",
   "id": "9f7e35c5-5c5e-4c62-a0a6-5d37238a107b",
   "metadata": {},
   "source": [
    "Each column in a dataframe can hold a different type of data, such as numbers or text. The dtypes attribute shows you the data type for each column, so you can quickly see which columns contain integers, floating-point numbers, or strings. This is important for understanding how your data will be handled in calculations and for troubleshooting issues with data types:"
   ]
  },
  {
   "cell_type": "code",
   "execution_count": null,
   "id": "33852ca3-5eb8-414c-ac51-0e7473fb466c",
   "metadata": {},
   "outputs": [],
   "source": [
    "metabric_patients.dtypes"
   ]
  },
  {
   "cell_type": "markdown",
   "id": "4ab58b75-88c8-4dc4-a248-1feff532109a",
   "metadata": {},
   "source": [
    "To open the help page for any method in the `DataFrame` class, use the following code."
   ]
  },
  {
   "cell_type": "code",
   "execution_count": null,
   "id": "e478ce8b-66d4-43eb-b26a-38bd6b2ccbea",
   "metadata": {},
   "outputs": [],
   "source": [
    "metabric_patients.head?"
   ]
  },
  {
   "cell_type": "code",
   "execution_count": null,
   "id": "cf8a1159-8b47-47c7-9378-df670dbec06c",
   "metadata": {},
   "outputs": [],
   "source": [
    "pd.DataFrame.tail?"
   ]
  },
  {
   "cell_type": "markdown",
   "id": "2433fef3",
   "metadata": {},
   "source": [
    "### Challenge: Summaries with `describe()` and `info()`\n",
    "\n",
    "`DataFrame.describe()` and `DataFrame.info()` are two simple, fast ways to learn about the variables in a dataframe. Before running the code, open the help pages to see the available options and to understand what each method returns.\n",
    "\n",
    "1. Use `help(pd.DataFrame.describe)` and `help(pd.DataFrame.info)` (or the `?` shortcut in a Jupyter environment) to inspect the methods.\n",
    "2. Run `.describe()` and `.info()` on the dataframe you loaded.\n",
    "3. Take notes: which columns are numeric, what are the reported counts, and which columns contain missing values (if any)?"
   ]
  },
  {
   "cell_type": "code",
   "execution_count": null,
   "id": "a2f2526b",
   "metadata": {},
   "outputs": [],
   "source": [
    "# Your attempt here"
   ]
  },
  {
   "cell_type": "markdown",
   "id": "161dcd85",
   "metadata": {},
   "source": [
    "## Selecting Data\n",
    "\n",
    "### Use `DataFrame.iloc[..., ...]` to select values by their (entry) position\n",
    "\n",
    "The `.iloc[]` accessor selects data by integer position, similar to standard Python indexing. This is useful when you want to select by row and column number, starting from 0.\n"
   ]
  },
  {
   "cell_type": "code",
   "execution_count": null,
   "id": "21fd9e6e",
   "metadata": {},
   "outputs": [],
   "source": [
    "# Select the value in the first row and first column\n",
    "first_value = metabric_patients.iloc[0, 0]\n",
    "print('First value in DataFrame:', first_value)"
   ]
  },
  {
   "cell_type": "code",
   "execution_count": null,
   "id": "42afff10",
   "metadata": {},
   "outputs": [],
   "source": [
    "# Select value at row 30, column 5\n",
    "middle_value = metabric_patients.iloc[29, 4]\n",
    "print('Value at row 30, column 5:', middle_value)"
   ]
  },
  {
   "cell_type": "markdown",
   "id": "99477096",
   "metadata": {},
   "source": [
    "### Use `DataFrame.loc[..., ...]` to select values by their (entry) label.\n",
    "\n",
    "The `.loc[]` accessor selects data by row and column labels (names). This is useful when your DataFrame has meaningful row labels (such as patient IDs) and column names.\n",
    "\n",
    "For example, if you want to select the value for the patient `MB-0000` in the column 'age_at_diagnosis':"
   ]
  },
  {
   "cell_type": "code",
   "execution_count": null,
   "id": "71c122c4",
   "metadata": {},
   "outputs": [],
   "source": [
    "# Select the value in row with label 0 and column 'age_at_diagnosis'\n",
    "age_value = metabric_patients.loc['MB-0000', 'Age_at_diagnosis']\n",
    "print('Age at diagnosis for first patient:', age_value)"
   ]
  },
  {
   "cell_type": "markdown",
   "id": "b1bf6475",
   "metadata": {},
   "source": [
    "### Slicing Data\n",
    "\n",
    "We can select the first ten columns of values for the first four patients (rows) like this:"
   ]
  },
  {
   "cell_type": "code",
   "execution_count": null,
   "id": "edf02631",
   "metadata": {},
   "outputs": [],
   "source": [
    "metabric_patients.iloc[0:4, 0:10]"
   ]
  },
  {
   "cell_type": "markdown",
   "id": "e25e6411",
   "metadata": {},
   "source": [
    "We don't have to start slices at 0:"
   ]
  },
  {
   "cell_type": "code",
   "execution_count": null,
   "id": "48b11f49",
   "metadata": {},
   "outputs": [],
   "source": [
    "metabric_patients.iloc[5:10, 0:10]"
   ]
  },
  {
   "cell_type": "markdown",
   "id": "e4a924bf",
   "metadata": {},
   "source": [
    "We also don't have to include the upper and lower bound on the slice.  If we don't include the lower\n",
    "bound, Python uses 0 by default; if we don't include the upper, the slice runs to the end of the\n",
    "axis, and if we don't include either (i.e., if we use ':' on its own), the slice includes\n",
    "everything:"
   ]
  },
  {
   "cell_type": "code",
   "execution_count": null,
   "id": "bc3cd9e7",
   "metadata": {},
   "outputs": [],
   "source": [
    "small = metabric_patients.iloc[:3, 24:]\n",
    "print('small is:')\n",
    "print(small)"
   ]
  },
  {
   "cell_type": "markdown",
   "id": "31997208",
   "metadata": {},
   "source": [
    "### Challenge: Slicing Data with Labels\n",
    "\n",
    "\n",
    "Repeat the previous three data selection tasks, but this time use the `.loc[]` accessor instead of `.iloc[]`."
   ]
  },
  {
   "cell_type": "code",
   "execution_count": null,
   "id": "f8d76693",
   "metadata": {},
   "outputs": [],
   "source": [
    "# Your attempt here"
   ]
  },
  {
   "cell_type": "markdown",
   "id": "03d53cd3",
   "metadata": {},
   "source": [
    "### Selecting Rows with Conditions (Boolean Masks) \n",
    "\n",
    "For example, the snippet below extracts the `Mutation_count` column and shows how to test which rows have more than 25 mutations."
   ]
  },
  {
   "cell_type": "code",
   "execution_count": null,
   "id": "741bc613",
   "metadata": {},
   "outputs": [],
   "source": [
    "mutation_data = metabric_patients.loc[:, \"Mutation_count\"]\n",
    "print('Mutation data:\\n', mutation_data)\n",
    "\n",
    "mask = mutation_data > 25\n",
    "print('\\nWhich rows have mutations above 25?\\n', mask)"
   ]
  },
  {
   "cell_type": "markdown",
   "id": "42a2052b",
   "metadata": {},
   "source": [
    "You can use that mask to filter matching rows as follows:"
   ]
  },
  {
   "cell_type": "code",
   "execution_count": null,
   "id": "cceb10b2",
   "metadata": {},
   "outputs": [],
   "source": [
    "mutation_data[mask]"
   ]
  },
  {
   "cell_type": "markdown",
   "id": "95c7c5ed",
   "metadata": {},
   "source": [
    "Or apply the same mask to the DataFrame to show the corresponding rows (or a specific set of columns):"
   ]
  },
  {
   "cell_type": "code",
   "execution_count": null,
   "id": "41cb85dc",
   "metadata": {},
   "outputs": [],
   "source": [
    "metabric_patients.loc[mask, 'Mutation_count':]"
   ]
  },
  {
   "cell_type": "markdown",
   "id": "ea93eb10",
   "metadata": {},
   "source": [
    "You can then run summary methods on the filtered rows, for example:"
   ]
  },
  {
   "cell_type": "code",
   "execution_count": null,
   "id": "dd305a84",
   "metadata": {},
   "outputs": [],
   "source": [
    "metabric_patients.loc[mask, 'Mutation_count':].describe()"
   ]
  },
  {
   "cell_type": "markdown",
   "id": "19dfbd39",
   "metadata": {},
   "source": [
    "Next, find patients who have a tumour size smaller than 5 mm and who were diagnosed at age 50 or older."
   ]
  },
  {
   "cell_type": "code",
   "execution_count": null,
   "id": "631e86cf",
   "metadata": {},
   "outputs": [],
   "source": [
    "# mask for tumours size (in mm) < 5\n",
    "\n",
    "\n",
    "# mask for age at diagnosis >= 50\n",
    "\n",
    "\n",
    "# select rows that satisfy both conditions\n"
   ]
  },
  {
   "cell_type": "markdown",
   "id": "9d5d5a69",
   "metadata": {},
   "source": [
    "### Challenge: Find the patient with the maximum tumour size\n",
    "\n",
    "1. Create a boolean mask for patients in Cohort 1.\n",
    "2. Use that mask to select the `Tumour_size` column and run `.describe()`; read the “max” value from the summary.\n",
    "3. Build a second mask to find the patient(s) in Cohort 1 whose `Tumour_size` equals that maximum, and display those rows (at least show `Tumour_size`).\n"
   ]
  },
  {
   "cell_type": "code",
   "execution_count": null,
   "id": "11f2bbe4",
   "metadata": {},
   "outputs": [],
   "source": [
    "# Your attempt here"
   ]
  },
  {
   "cell_type": "markdown",
   "id": "0cee454c",
   "metadata": {},
   "source": [
    "# 4. Analysing Patient Data\n",
    "\n",
    "In this section you’ll move from loading to analysing patient data with pandas. You’ll compute descriptive statistics column‑wise and row‑wise across an expression slice, check and handle missing values, and explore categorical variables their counts including percentages and ordered displays. You’ll also build boolean masks to focus on subsets  and prepare tidy summaries that feed into the visualisation section."
   ]
  },
  {
   "cell_type": "markdown",
   "id": "089da65f",
   "metadata": {},
   "source": [
    "## Statistics on data\n",
    "\n",
    "### Mean \n",
    "\n",
    "Mean (*average*) of a single column (one variable):"
   ]
  },
  {
   "cell_type": "code",
   "execution_count": null,
   "id": "344171af",
   "metadata": {},
   "outputs": [],
   "source": [
    "metabric_patients.loc[:, 'Survival_time'].mean()"
   ]
  },
  {
   "cell_type": "markdown",
   "id": "1fee1ccb",
   "metadata": {},
   "source": [
    "Mean of all numeric columns (column-wise):"
   ]
  },
  {
   "cell_type": "code",
   "execution_count": null,
   "id": "cab9ab47",
   "metadata": {},
   "outputs": [],
   "source": [
    "metabric_patients.mean(numeric_only = True)"
   ]
  },
  {
   "cell_type": "code",
   "execution_count": null,
   "id": "fb2308ac",
   "metadata": {},
   "outputs": [],
   "source": [
    "# Column-wise summaries\n",
    "metabric_patients.mean(numeric_only=True)[:10]"
   ]
  },
  {
   "cell_type": "markdown",
   "id": "ad206f42",
   "metadata": {},
   "source": [
    "Mean across each row:"
   ]
  },
  {
   "cell_type": "code",
   "execution_count": null,
   "id": "139c7af4",
   "metadata": {},
   "outputs": [],
   "source": [
    "metabric_patients.mean(axis=1, numeric_only=True)"
   ]
  },
  {
   "cell_type": "markdown",
   "id": "3f076ec9",
   "metadata": {},
   "source": [
    "### Median\n",
    "\n",
    "The median (*robust \"typical\" value*) is the middle value when data are sorted. It is not affected by extreme values (outliers) and is often used to describe the central tendency of data. \n"
   ]
  },
  {
   "cell_type": "code",
   "execution_count": null,
   "id": "d276b1a5",
   "metadata": {},
   "outputs": [],
   "source": [
    "metabric_patients.median(numeric_only = True)"
   ]
  },
  {
   "cell_type": "markdown",
   "id": "a44b2dc3",
   "metadata": {},
   "source": [
    "### Standard Deviation \n",
    "\n",
    "The standard deviation (*spread around the mean*) measures the amount of variation or dispersion in a dataset. A lower standard deviation indicates that data points are close to the mean, while a higher standard deviation indicates greater variability. "
   ]
  },
  {
   "cell_type": "code",
   "execution_count": null,
   "id": "4120f2e5",
   "metadata": {},
   "outputs": [],
   "source": [
    "metabric_patients.std(numeric_only = True)"
   ]
  },
  {
   "cell_type": "markdown",
   "id": "fcdf5db5",
   "metadata": {},
   "source": [
    "### Variance \n",
    "\n",
    "Variance (*spread in squared units*) is the square of the standard deviation. It quantifies how much individual data points deviate from the mean. It’s useful mathematically, but note its units are squared (e.g., cm² if the original variable is in cm). "
   ]
  },
  {
   "cell_type": "code",
   "execution_count": null,
   "id": "27446aec",
   "metadata": {},
   "outputs": [],
   "source": [
    "metabric_patients.var(numeric_only = True)"
   ]
  },
  {
   "cell_type": "markdown",
   "id": "fe08cbde",
   "metadata": {},
   "source": [
    "### Sum \n",
    "\n",
    "Total for each numeric column (column-wise):"
   ]
  },
  {
   "cell_type": "code",
   "execution_count": null,
   "id": "6b615f39",
   "metadata": {},
   "outputs": [],
   "source": [
    "metabric_patients.sum(numeric_only = True)"
   ]
  },
  {
   "cell_type": "markdown",
   "id": "d8579c8c",
   "metadata": {},
   "source": [
    "Total for a single column (e.g., Mutation_count across all patients):"
   ]
  },
  {
   "cell_type": "code",
   "execution_count": null,
   "id": "4becc2f7",
   "metadata": {},
   "outputs": [],
   "source": [
    "metabric_patients.loc[:, 'Mutation_count'].sum()"
   ]
  },
  {
   "cell_type": "markdown",
   "id": "6aab91a0",
   "metadata": {},
   "source": [
    "If you ever sum across rows (`axis=1`), be sure the columns are on comparable scales.\n",
    "Row-wise sum of selected numeric columns (use with care):"
   ]
  },
  {
   "cell_type": "code",
   "execution_count": null,
   "id": "6c33a384",
   "metadata": {},
   "outputs": [],
   "source": [
    "metabric_patients.loc[:, 'ESR1':'MLPH'].sum(axis = 1, numeric_only = True)"
   ]
  },
  {
   "cell_type": "markdown",
   "id": "e07753a4",
   "metadata": {},
   "source": [
    "### Count \n",
    "\n",
    "Use `.count()` to count non-missing values. This is helpful to see how complete each column is.\n",
    "Count of non-missing values for each column:"
   ]
  },
  {
   "cell_type": "code",
   "execution_count": null,
   "id": "d7c9bf05",
   "metadata": {},
   "outputs": [],
   "source": [
    "metabric_patients.count()"
   ]
  },
  {
   "cell_type": "markdown",
   "id": "3bb641d6",
   "metadata": {},
   "source": [
    "Count of non-missing values for a Survival_status column:"
   ]
  },
  {
   "cell_type": "code",
   "execution_count": null,
   "id": "becd8144",
   "metadata": {},
   "outputs": [],
   "source": [
    "metabric_patients.loc[:, 'Survival_status'].count()"
   ]
  },
  {
   "cell_type": "markdown",
   "id": "209bb8df",
   "metadata": {},
   "source": [
    "Let's say we want to analyze patients from cohort 1, whose IDs range from MB-0000 to MB-0906. For example, to find the maximum tumour size among these patients, we can use the following code:\n"
   ]
  },
  {
   "cell_type": "code",
   "execution_count": null,
   "id": "017d77ac",
   "metadata": {},
   "outputs": [],
   "source": [
    "cohort_mask = metabric_patients.loc[:, \"Cohort\"] == 1\n",
    "print('Maximum for Tumour_size column for cohort 1 patients:')\n",
    "print(metabric_patients.loc[cohort_mask, \"Tumour_size\"].max())"
   ]
  },
  {
   "cell_type": "markdown",
   "id": "9ed192c2",
   "metadata": {},
   "source": [
    "For the same set of patients, you can check the minimum mutation count and identify which patient(s) have it. For example:"
   ]
  },
  {
   "cell_type": "code",
   "execution_count": null,
   "id": "0ba1e271",
   "metadata": {},
   "outputs": [],
   "source": [
    "print('\\nMinimum for Mutation_count column for cohort 1 patients:')\n",
    "min_mutation = metabric_patients.loc[cohort_mask, \"Mutation_count\"].min()\n",
    "print(min_mutation)\n",
    "print('Patients with minimum mutations:')\n",
    "min_mutation_mask = metabric_patients.loc[:, \"Mutation_count\"] == min_mutation\n",
    "metabric_patients.loc[min_mutation_mask & cohort_mask, :]"
   ]
  },
  {
   "cell_type": "markdown",
   "id": "8a2ba2b3",
   "metadata": {},
   "source": [
    "### Challenge: Summaries for Breast Invasive Ductal Carcinoma (IDC)\n",
    "\n",
    "Build a small workflow that focuses on a clinically defined subset and its gene expression profile.\n",
    "\n",
    "1. Create a boolean mask for patients whose `Cancer_type` is \"Breast Invasive Ductal Carcinoma\" (IDC).\n",
    "2. Using that mask, select only the expression columns for those patients. \n",
    "3. Compute column-wise summaries across patients for the expression columns:\n",
    "    - Mean for each gene\n",
    "    - Median for each gene\n",
    "    \n",
    "4. Compute a left-to-right cumulative sum across the expression columns for each patient. In each row, the final expression column should equal the total (sum) across all genes for that patient."
   ]
  },
  {
   "cell_type": "code",
   "execution_count": null,
   "id": "0811182f",
   "metadata": {},
   "outputs": [],
   "source": []
  },
  {
   "cell_type": "markdown",
   "id": "6240a491",
   "metadata": {},
   "source": [
    "## Useful Helper Functions\n",
    "\n",
    "Before plotting or building more complex summaries, a few small helpers make your life easier. These tools don’t change the meaning of your data—they help you clean rows, control order, and ask focused questions. After each command, check what changed: the values, the order, the labels, or the row count.\n",
    "\n",
    "### Missing Values\n",
    "\n",
    "It’s important to make sure your data doesn’t contain missing values (represented as `NaN`, which stands for \"Not a Number\"). Missing values can cause errors or misleading results in your analysis. For example, calculating the mean of a column with missing values will return NaN, and plotting functions might skip or misrepresent those data points.\n",
    "\n",
    "To handle this, you can use the `dropna()` method. This method removes any rows (or columns) that contain missing values. By default, `dropna()` removes rows where any column has a missing value.\n",
    "\n",
    "Drop rows where either '3-gene_classifier' or 'GATA3' is missing:"
   ]
  },
  {
   "cell_type": "code",
   "execution_count": null,
   "id": "e036c39a",
   "metadata": {},
   "outputs": [],
   "source": [
    "subset = metabric_patients.loc[:, ['3-gene_classifier', 'GATA3']].dropna()\n",
    "print('Rows before:', len(metabric_patients))\n",
    "print('Rows after dropna:', len(subset))"
   ]
  },
  {
   "cell_type": "markdown",
   "id": "330aefce",
   "metadata": {},
   "source": [
    "### Unique Values\n",
    "\n",
    "When you’re exploring categorical columns, a first sanity check is to list which labels actually appear. This helps you spot typos (\"Lum a\" vs \"LumA\"), unexpected categories, or missing values before you count or plot. Pandas provides `.unique()` for this: it returns the distinct values observed in a column.\n",
    "\n",
    "`unique()` returns an array of the distinct values. If the column contains missing values (`NaN`), they will be included in the result. Use `dropna()` first if you want to exclude missing values from the listing.\n"
   ]
  },
  {
   "cell_type": "code",
   "execution_count": null,
   "id": "10087a6c",
   "metadata": {},
   "outputs": [],
   "source": [
    "metabric_patients.loc[:, '3-gene_classifier'].unique()"
   ]
  },
  {
   "cell_type": "code",
   "execution_count": null,
   "id": "de1d5d0f",
   "metadata": {},
   "outputs": [],
   "source": [
    "# Distinct labels, excluding missing entries\n",
    "metabric_patients.loc[:, '3-gene_classifier'].dropna().unique()"
   ]
  },
  {
   "cell_type": "markdown",
   "id": "6ce27d6b",
   "metadata": {},
   "source": [
    "The order of the output is based on first appearance in the column; it’s not alphabetical. If you want you can sort the categories as follows: "
   ]
  },
  {
   "cell_type": "code",
   "execution_count": null,
   "id": "fe6a05da",
   "metadata": {},
   "outputs": [],
   "source": [
    "labels = metabric_patients.loc[:, '3-gene_classifier'].dropna().unique()\n",
    "sorted(labels)"
   ]
  },
  {
   "cell_type": "markdown",
   "id": "62962bec",
   "metadata": {},
   "source": [
    "### Frequency of Values \n",
    "\n",
    "To inspect how often each distinct value appears in a column, use `value_counts()`. This is particularly helpful for categorical variables (for example, labels) to check balance, spot rare categories, and reveal unexpected or missing labels. By default it returns counts sorted by frequency."
   ]
  },
  {
   "cell_type": "code",
   "execution_count": null,
   "id": "ca87ef0f",
   "metadata": {},
   "outputs": [],
   "source": [
    "metabric_patients.value_counts()"
   ]
  },
  {
   "cell_type": "markdown",
   "id": "5899a815",
   "metadata": {},
   "source": [
    "For a specific column (e.g., `3-gene_classifier`):"
   ]
  },
  {
   "cell_type": "code",
   "execution_count": null,
   "id": "ecb582b5",
   "metadata": {},
   "outputs": [],
   "source": [
    "metabric_patients.loc[:, '3-gene_classifier'].value_counts()"
   ]
  },
  {
   "cell_type": "markdown",
   "id": "0d07c520",
   "metadata": {},
   "source": [
    "Set `normalize=True` to display proportions (percentages) rather than raw counts."
   ]
  },
  {
   "cell_type": "code",
   "execution_count": null,
   "id": "42baf7a8",
   "metadata": {},
   "outputs": [],
   "source": [
    "metabric_patients.loc[:, '3-gene_classifier'].value_counts(normalize=True)"
   ]
  },
  {
   "cell_type": "markdown",
   "id": "4573dde4",
   "metadata": {},
   "source": [
    "To display percentages, multiply the result by 100:"
   ]
  },
  {
   "cell_type": "code",
   "execution_count": null,
   "id": "5660bb68",
   "metadata": {},
   "outputs": [],
   "source": [
    "metabric_patients.loc[:, '3-gene_classifier'].value_counts(normalize=True) * 100"
   ]
  },
  {
   "cell_type": "markdown",
   "id": "1e327b92",
   "metadata": {},
   "source": [
    "By default, missing values (or `NaN`) are excluded from the result. This means that only rows with actual, non-missing values are counted in the frequency table. If you want to include missing values as their own category in the output, you can pass the argument `dropna=False` to `value_counts()`. This will show how many times `NaN` appears in the column, which is useful for quickly assessing the amount of missing data in a categorical variable."
   ]
  },
  {
   "cell_type": "code",
   "execution_count": null,
   "id": "1695d397",
   "metadata": {},
   "outputs": [],
   "source": [
    "metabric_patients.loc[:, '3-gene_classifier'].value_counts(dropna=False)"
   ]
  },
  {
   "cell_type": "markdown",
   "id": "95c2b54c",
   "metadata": {},
   "source": [
    "Counts returned by `value_counts()` are automatically sorted from most to least frequent. If you want to sort the counts by the actual labels (in alphabetical order), you can use the `sort_index()` method. This is useful when you need to view your data categories in a predictable, ordered way rather than by their frequency."
   ]
  },
  {
   "cell_type": "code",
   "execution_count": null,
   "id": "7a3b6171",
   "metadata": {},
   "outputs": [],
   "source": [
    "metabric_patients.loc[:, 'Integrative_cluster'].value_counts().sort_index()"
   ]
  },
  {
   "cell_type": "markdown",
   "id": "253fba0b",
   "metadata": {},
   "source": [
    "To display categories in a custom order (such as a clinically meaningful sequence), use the `reindex()` method. This lets you specify the exact order of labels you want to see in your output, rather than relying on alphabetical or frequency-based sorting. For example, if you have a desired order of cluster labels, you can filter to only those present in your data and then reindex the counts:"
   ]
  },
  {
   "cell_type": "code",
   "execution_count": null,
   "id": "63c1bb61",
   "metadata": {},
   "outputs": [],
   "source": [
    "counts = metabric_patients.loc[:, 'Integrative_cluster'].value_counts()\n",
    "\n",
    "# custom order (keep only labels that exist)\n",
    "desired = [\"1\", \"2\", \"3\", \"4ER-\", \"4ER+\", \"5\", \"6\", \"7\", \"8\", \"9\", \"10\"]\n",
    "present = [lab for lab in desired if lab in counts.index]\n",
    "counts_custom = counts.reindex(present)\n",
    "counts_custom"
   ]
  },
  {
   "cell_type": "markdown",
   "id": "7b592a8a",
   "metadata": {},
   "source": [
    "### Challenge: Summarize Categories (Cellularity)\n",
    "\n",
    "1) List the unique labels in `Cellularity`:\n",
    "   - Excluding missing values\n",
    "   - Including missing values\n",
    "\n",
    "2) Show `Cellularity` label counts with:\n",
    "   - Raw counts (include and exclude missing values)\n",
    "   - Percentages \n",
    "   - Alphabetical order \n",
    "\n",
    "3) How many patients have High cellularity but no recorded 3-gene classifier? (i.e., missing value in 3-gene classifier column)"
   ]
  },
  {
   "cell_type": "code",
   "execution_count": null,
   "id": "63237eb3",
   "metadata": {},
   "outputs": [],
   "source": [
    "# Your attempt here"
   ]
  },
  {
   "cell_type": "markdown",
   "id": "18493250",
   "metadata": {},
   "source": [
    "## 5. Visualising Patient Data\n",
    "\n",
    "In this section you’ll turn numeric summaries into clear visuals with Matplotlib. We’ll build a scatter plot of GATA3 vs ESR1 from the METABRIC dataset, add informative axis labels, a title, and refine the look with color, marker size, transparency (alpha), and an edge outline. You’ll also enable a light grid and use a tight layout so figures look clean in slides and reports—creating a simple template you can reuse for other variables and comparisons. Then we’ll broaden out to other common plot types for quick exploration: bar charts for category counts, boxplots to compare distributions across groups, and a line plot for cumulative distribution. You’ll also see how to save figures (PNG/SVG/PDF) with publication‑friendly settings so your plots drop neatly into slides and reports."
   ]
  },
  {
   "cell_type": "markdown",
   "id": "7942fa8a",
   "metadata": {},
   "source": [
    "First, we will import the `pyplot` module from matplotlib."
   ]
  },
  {
   "cell_type": "code",
   "execution_count": 18,
   "id": "744bf6af",
   "metadata": {},
   "outputs": [],
   "source": [
    "import matplotlib.pyplot as plt"
   ]
  },
  {
   "cell_type": "markdown",
   "id": "e06777dd",
   "metadata": {},
   "source": [
    "## Your First Plot\n",
    "\n",
    "Let’s explore the relationship between two important genes in breast cancer: the transcription factor GATA3 and the estrogen receptor ESR1. We’ll plot GATA3 expression on the x-axis and ESR1 expression on the y-axis.\n",
    "\n",
    "To get started, we’ll extract these columns from the `metabric_patients` DataFrame and assign them to variables for easy plotting."
   ]
  },
  {
   "cell_type": "code",
   "execution_count": null,
   "id": "396a023d",
   "metadata": {},
   "outputs": [],
   "source": []
  },
  {
   "cell_type": "markdown",
   "id": "d25d4551",
   "metadata": {},
   "source": [
    "Next, we are going to create our first scatter plot with `plt.scatter`."
   ]
  },
  {
   "cell_type": "code",
   "execution_count": null,
   "id": "8223fa32",
   "metadata": {},
   "outputs": [],
   "source": []
  },
  {
   "cell_type": "markdown",
   "id": "f6e9dc2c",
   "metadata": {},
   "source": [
    "## Customising Plots\n",
    "\n",
    "Matplotlib gives you fine control over the appearance of your plots, making it possible to create figures suitable for presentations and publications. This section explains some useful features to improve your scatter plots.\n",
    "\n",
    "### Add Axis Labels\n",
    "\n",
    "Our scatter plot is informative, but it’s not yet self-explanatory. To make it clear which gene is represented on each axis, let’s add axis labels and a descriptive title."
   ]
  },
  {
   "cell_type": "code",
   "execution_count": null,
   "id": "8ccd03d1",
   "metadata": {},
   "outputs": [],
   "source": []
  },
  {
   "cell_type": "markdown",
   "id": "ad079713",
   "metadata": {},
   "source": [
    "You can also control the look of these texts, for example the font size:"
   ]
  },
  {
   "cell_type": "code",
   "execution_count": null,
   "id": "a218d1ab",
   "metadata": {},
   "outputs": [],
   "source": []
  },
  {
   "cell_type": "markdown",
   "id": "70458f40",
   "metadata": {},
   "source": [
    "### Change Point Shape \n",
    "\n",
    "You can change the shape of the points using the `marker` argument in `plt.scatter`. Common marker shapes include:\n",
    "\n",
    "- `'o'` : circle (default)\n",
    "- `'s'` : square\n",
    "- `'^'` : triangle up\n",
    "- `'v'` : triangle down\n",
    "- `'D'` : diamond\n",
    "- `'x'` : x\n",
    "- `'+'` : plus\n",
    "\n",
    "For example, to use x:"
   ]
  },
  {
   "cell_type": "code",
   "execution_count": null,
   "id": "45a08cf1",
   "metadata": {},
   "outputs": [],
   "source": []
  },
  {
   "cell_type": "markdown",
   "id": "bf6268af",
   "metadata": {},
   "source": [
    "Try different marker styles to see which best fits your data and audience."
   ]
  },
  {
   "cell_type": "code",
   "execution_count": null,
   "id": "4eb90d23",
   "metadata": {},
   "outputs": [],
   "source": []
  },
  {
   "cell_type": "markdown",
   "id": "310876d9",
   "metadata": {},
   "source": [
    "### Adding Color Size and Transparency\n",
    "\n",
    "The above plot can be made clearer by adjusting the point color, size and transparency. This helps reduce overplotting and makes patterns easier to see."
   ]
  },
  {
   "cell_type": "code",
   "execution_count": null,
   "id": "b430fe73",
   "metadata": {},
   "outputs": [],
   "source": []
  },
  {
   "cell_type": "markdown",
   "id": "54123fcc",
   "metadata": {},
   "source": [
    "You can also add a subtle outline to each point to improve separation where points overlap, especially when markers are light on a light background:"
   ]
  },
  {
   "cell_type": "code",
   "execution_count": null,
   "id": "4457e499",
   "metadata": {},
   "outputs": [],
   "source": []
  },
  {
   "cell_type": "markdown",
   "id": "b668702f",
   "metadata": {},
   "source": [
    "#### Colour by a third variable\n",
    "\n",
    "If you have another numeric column (for example, ESR1 itself), you can map values to colour with a colormap:"
   ]
  },
  {
   "cell_type": "code",
   "execution_count": null,
   "id": "fb7e7bdd",
   "metadata": {},
   "outputs": [],
   "source": []
  },
  {
   "cell_type": "markdown",
   "id": "4edb4db3",
   "metadata": {},
   "source": [
    "### Control Axis Limits\n",
    "\n",
    "By default, Matplotlib “autoscales” to fit your data. Manually setting limits is helpful when you:\n",
    "\n",
    "- Compare multiple figures or panels and want the same scale on each.\n",
    "- Focus on a region of interest (e.g., crop away extreme outliers for clarity).\n",
    "- Make slopes and relative differences easier to interpret across plots.\n",
    "\n",
    "You can also set limits based on the data range with a small padding:"
   ]
  },
  {
   "cell_type": "code",
   "execution_count": null,
   "id": "e8548aa1",
   "metadata": {},
   "outputs": [],
   "source": [
    "plt.scatter(gata3, esr1, alpha=0.6, s=14, color=\"steelblue\")\n",
    "plt.xlabel(\"GATA3 expression\")\n",
    "plt.ylabel(\"ESR1 expression\")\n",
    "plt.title(\"GATA3 vs ESR1 (Metabric patients)\")\n",
    "plt.xlim(0, 20)\n",
    "plt.ylim(0, 20)"
   ]
  },
  {
   "cell_type": "markdown",
   "id": "a8b2eea2",
   "metadata": {},
   "source": [
    "If your variables are on the same scale and you want geometry to be visually comparable, set an equal aspect ratio:"
   ]
  },
  {
   "cell_type": "code",
   "execution_count": null,
   "id": "f6433797",
   "metadata": {},
   "outputs": [],
   "source": [
    "plt.scatter(gata3, esr1, alpha=0.6, s=14, color=\"steelblue\")\n",
    "plt.xlabel(\"GATA3 expression\")\n",
    "plt.ylabel(\"ESR1 expression\")\n",
    "plt.title(\"GATA3 vs ESR1 (Metabric patients)\")\n",
    "plt.axis('equal')  # 1 unit on x equals 1 unit on y"
   ]
  },
  {
   "cell_type": "markdown",
   "id": "ab5bcc93",
   "metadata": {},
   "source": [
    "For data spanning orders of magnitude, log scales can reveal structure: (Note: log scales require strictly positive values. Filter or shift data if needed before applying.)"
   ]
  },
  {
   "cell_type": "code",
   "execution_count": null,
   "id": "21b97785",
   "metadata": {},
   "outputs": [],
   "source": [
    "plt.scatter(gata3, esr1, alpha=0.6, s=14, color=\"steelblue\")\n",
    "plt.xlabel(\"GATA3 expression\")\n",
    "plt.ylabel(\"ESR1 expression\")\n",
    "plt.title(\"GATA3 vs ESR1 (Metabric patients)\")\n",
    "plt.xscale('log')\n",
    "plt.yscale('log')"
   ]
  },
  {
   "cell_type": "markdown",
   "id": "a7537a81",
   "metadata": {},
   "source": [
    "### Add Grid Lines\n",
    "\n",
    "Grid lines make it easier to read values across from the axes, especially in dense scatter plots and categorical charts. You can toggle and style them with `plt.grid(...)`.\n",
    "\n",
    "Basic usage on our scatter plot:"
   ]
  },
  {
   "cell_type": "code",
   "execution_count": null,
   "id": "6943f036",
   "metadata": {},
   "outputs": [],
   "source": [
    "plt.scatter(gata3, esr1, alpha=0.6, s=14, color=\"steelblue\")\n",
    "plt.xlabel(\"GATA3 expression\")\n",
    "plt.ylabel(\"ESR1 expression\")\n",
    "plt.title(\"GATA3 vs ESR1 with grid\")\n",
    "\n",
    "# Turn on light dashed grid lines behind the points\n",
    "plt.grid(True, which=\"major\", axis=\"both\", linestyle=\"--\", linewidth=0.5, alpha=0.4)"
   ]
  },
  {
   "cell_type": "markdown",
   "id": "a1629d72",
   "metadata": {},
   "source": [
    "Only y-axis grid (great for bar/box plots):"
   ]
  },
  {
   "cell_type": "code",
   "execution_count": null,
   "id": "f514e43d",
   "metadata": {},
   "outputs": [],
   "source": [
    "plt.grid(True, axis=\"y\", linestyle=\"--\", alpha=0.5)"
   ]
  },
  {
   "cell_type": "markdown",
   "id": "0edd1a60",
   "metadata": {},
   "source": [
    "Add minor ticks and a faint minor grid:"
   ]
  },
  {
   "cell_type": "code",
   "execution_count": null,
   "id": "f9ccabd3",
   "metadata": {},
   "outputs": [],
   "source": [
    "plt.minorticks_on()\n",
    "plt.grid(True, which=\"minor\", linestyle=\":\", linewidth=0.4, alpha=0.2)"
   ]
  },
  {
   "cell_type": "markdown",
   "id": "a1dad259",
   "metadata": {},
   "source": [
    "### Adding Style\n",
    "\n",
    "Styles control the overall appearance of the plot, including colours, gridlines, fonts, background color and text styles. Matplotlib supports several style options and you can also create custom themes to match your preferences or the requirements of your publication. "
   ]
  },
  {
   "cell_type": "code",
   "execution_count": null,
   "id": "65c7691b",
   "metadata": {},
   "outputs": [],
   "source": [
    "plt.style.use('seaborn-v0_8-whitegrid')\n",
    "plt.scatter(gata3, esr1, alpha=0.6, s=14, color=\"steelblue\")\n",
    "plt.xlabel(\"GATA3 expression\")\n",
    "plt.ylabel(\"ESR1 expression\")\n",
    "plt.title(\"GATA3 vs ESR1 (Metabric patients)\")"
   ]
  },
  {
   "cell_type": "markdown",
   "id": "669fc837",
   "metadata": {},
   "source": [
    "Other popular styles: `'ggplot'`, `'classic'`, `'bmh'`, `'fivethirtyeight'`. See all available styles:"
   ]
  },
  {
   "cell_type": "code",
   "execution_count": null,
   "id": "aa7f5ecf",
   "metadata": {},
   "outputs": [],
   "source": [
    "print(plt.style.available)"
   ]
  },
  {
   "cell_type": "markdown",
   "id": "4d2c7409",
   "metadata": {},
   "source": [
    "You can apply a style globally with `plt.style.use(...)`, or only for a few lines using a context\n",
    "manager so the style doesn’t “leak” into later figures:"
   ]
  },
  {
   "cell_type": "code",
   "execution_count": null,
   "id": "21b87a57",
   "metadata": {},
   "outputs": [],
   "source": [
    "with plt.style.context('ggplot'):\n",
    "    plt.scatter(gata3, esr1, s=14, alpha=0.6)\n",
    "    plt.xlabel(\"GATA3 expression\")\n",
    "    plt.ylabel(\"ESR1 expression\")\n",
    "    plt.title(\"GATA3 vs ESR1 (Metabric patients)\")"
   ]
  },
  {
   "cell_type": "markdown",
   "id": "a8a04e46",
   "metadata": {},
   "source": [
    "To go back to Matplotlib defaults after changing styles globally, run:"
   ]
  },
  {
   "cell_type": "code",
   "execution_count": null,
   "id": "742f16e3",
   "metadata": {},
   "outputs": [],
   "source": [
    "plt.style.use('default')"
   ]
  },
  {
   "cell_type": "markdown",
   "id": "3e9cdd24",
   "metadata": {},
   "source": [
    "## Save Figures to File\n",
    "\n",
    "Saving your figure creates a file you can share or include in reports and manuscripts. \n",
    "\n",
    "To save your plot as a PNG or PDF for publication:"
   ]
  },
  {
   "cell_type": "code",
   "execution_count": null,
   "id": "83ec14f0",
   "metadata": {},
   "outputs": [],
   "source": []
  },
  {
   "cell_type": "markdown",
   "id": "0470273f",
   "metadata": {},
   "source": [
    "You can change the file extension to save in different formats. For example, to save the same figure as a PDF, use:"
   ]
  },
  {
   "cell_type": "code",
   "execution_count": null,
   "id": "bc5e563e",
   "metadata": {},
   "outputs": [],
   "source": []
  },
  {
   "cell_type": "markdown",
   "id": "d6bd59c5",
   "metadata": {},
   "source": [
    "### Challenge: Scatter Plot\n",
    "\n",
    "Create a scatter plot of ESR1 expression vs Nottingham prognostic index as shown below and save is as a PDF. \n",
    "\n",
    "![](data:image/png;base64,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)"
   ]
  },
  {
   "cell_type": "code",
   "execution_count": null,
   "id": "6fd657fc",
   "metadata": {},
   "outputs": [],
   "source": []
  },
  {
   "cell_type": "markdown",
   "id": "8de60ff9",
   "metadata": {},
   "source": [
    "## Bar Charts\n",
    "\n",
    "Bar charts are useful for comparing values across categories. \n",
    "\n",
    "The metabric study redefined how we think about breast cancer by identifying and characterizing several new subtypes, referred to as integrative clusters. Let’s create a bar chart of the number of patients whose cancers fall within each subtype in the metabric cohort.\n",
    "\n",
    "Start with a simplest plot: compute counts and draw bars."
   ]
  },
  {
   "cell_type": "code",
   "execution_count": null,
   "id": "6ab55499",
   "metadata": {},
   "outputs": [],
   "source": [
    "# Step 1: select the categorical column\n",
    "int_clust = metabric_patients.loc[:, \"Integrative_cluster\"]\n",
    "\n",
    "# Step 2: count how many patients fall into each category\n",
    "counts = int_clust.value_counts()\n",
    "\n",
    "# Step 3: draw a basic bar chart (no labels yet)\n",
    "plt.bar(counts.index, counts.values)"
   ]
  },
  {
   "cell_type": "markdown",
   "id": "eaafd8dd",
   "metadata": {},
   "source": [
    "We can then make the figure self-explanatory by adding axis labels, a title, and readable tick labels."
   ]
  },
  {
   "cell_type": "code",
   "execution_count": null,
   "id": "fefd9547",
   "metadata": {},
   "outputs": [],
   "source": [
    "plt.bar(counts.index, counts.values)\n",
    "plt.xlabel(\"Integrative cluster\")\n",
    "plt.ylabel(\"Number of patients\")\n",
    "plt.title(\"Patient counts by integrative cluster\")\n",
    "plt.xticks(rotation=30, ha='right')  # rotate long labels so they don’t overlap"
   ]
  },
  {
   "cell_type": "markdown",
   "id": "a2c8acf6",
   "metadata": {},
   "source": [
    "By default, `value_counts()` orders bars by frequency (highest first). You may prefer alphabetical\n",
    "order (easier to look up a category) or a custom, biologically meaningful order."
   ]
  },
  {
   "cell_type": "code",
   "execution_count": null,
   "id": "a8167883",
   "metadata": {},
   "outputs": [],
   "source": [
    "counts_alpha = counts.sort_index()\n",
    "plt.bar(counts_alpha.index, counts_alpha.values)\n",
    "plt.xlabel(\"Integrative cluster\")\n",
    "plt.ylabel(\"Number of patients\")\n",
    "plt.title(\"Patient counts by cluster (alphabetical)\")\n",
    "plt.xticks(rotation=30, ha='right')\n",
    "plt.tight_layout()"
   ]
  },
  {
   "cell_type": "markdown",
   "id": "51993fc6",
   "metadata": {},
   "source": [
    "Custom order (only the labels present will be plotted, in this order):"
   ]
  },
  {
   "cell_type": "code",
   "execution_count": null,
   "id": "1f7d25df",
   "metadata": {},
   "outputs": [],
   "source": [
    "desired = [\n",
    "    \"1\", \"2\", \"3\", \"4ER-\", \"4ER+\", \"5\", \"6\", \"7\", \"8\", \"9\", \"10\"\n",
    "]\n",
    "\n",
    "# Keep only categories that exist in our data, and reorder\n",
    "present = [lab for lab in desired if lab in counts.index]\n",
    "counts_custom = counts.reindex(present)\n",
    "\n",
    "plt.bar(counts_custom.index, counts_custom.values)\n",
    "plt.xlabel(\"Integrative cluster\")\n",
    "plt.ylabel(\"Number of patients\")\n",
    "plt.title(\"Patient counts by cluster (custom order)\")\n",
    "plt.xticks(rotation=30, ha='right')\n",
    "plt.tight_layout()"
   ]
  },
  {
   "cell_type": "markdown",
   "id": "609067a5",
   "metadata": {},
   "source": [
    "### Challenge — Colourful Bars with Outlines\n",
    "\n",
    "Create a bar chart of patient counts by cancer type, then add a fill colour and a contrasting edge colour to make the bars stand out."
   ]
  },
  {
   "cell_type": "code",
   "execution_count": null,
   "id": "15f94941",
   "metadata": {},
   "outputs": [],
   "source": []
  },
  {
   "cell_type": "markdown",
   "id": "a6c4dee4",
   "metadata": {},
   "source": [
    "## Box Plot\n",
    "\n",
    "Box plots are great for comparing distributions across categories. Here we’ll compare GATA3 expression between ER‑negative and ER‑positive patients."
   ]
  },
  {
   "cell_type": "code",
   "execution_count": null,
   "id": "f8a83ee5",
   "metadata": {},
   "outputs": [],
   "source": [
    "# Select all ER status positive patients\n",
    "mask_pos = metabric_patients.loc[:, \"ER_status\"] == \"Positive\"\n",
    "pos = metabric_patients.loc[mask_pos, \"GATA3\"]\n",
    "\n",
    "# Select all ER status negative patients\n",
    "mask_neg = metabric_patients.loc[:, \"ER_status\"] == \"Negative\"\n",
    "neg = metabric_patients.loc[mask_neg, \"GATA3\"]\n",
    "\n",
    "plt.boxplot([neg, pos], labels=[\"Negative\", \"Positive\"]) \n",
    "plt.xlabel(\"ER status\")\n",
    "plt.ylabel(\"GATA3 expression\")\n",
    "plt.title(\"GATA3 by ER status\")\n",
    "plt.tight_layout()"
   ]
  },
  {
   "cell_type": "markdown",
   "id": "5f8839d2",
   "metadata": {},
   "source": [
    "### Challenge — Box Plot by 3‑gene Classifier\n",
    "\n",
    "Create a box plot of GATA3 expression across categories of the 3‑gene classifier. Required data is already given for you.\n"
   ]
  },
  {
   "cell_type": "code",
   "execution_count": null,
   "id": "8471b5e9",
   "metadata": {},
   "outputs": [],
   "source": [
    "# Select relevant columns and drop rows with missing values\n",
    "subset = metabric_patients.loc[:, [\"3-gene_classifier\", \"GATA3\"]].dropna()\n",
    "\n",
    "# Get sorted list of unique classifier categories for x-axis labels\n",
    "labels = sorted(subset.loc[:, \"3-gene_classifier\"].unique())\n",
    "\n",
    "# For each classifier category, extract GATA3 expression values as a group\n",
    "groups = [subset.loc[subset[\"3-gene_classifier\"] == lab, \"GATA3\"].values for lab in labels]"
   ]
  },
  {
   "cell_type": "code",
   "execution_count": null,
   "id": "e873a459",
   "metadata": {},
   "outputs": [],
   "source": []
  },
  {
   "cell_type": "markdown",
   "id": "057dcdf1",
   "metadata": {},
   "source": [
    "## Line Plot\n",
    "\n",
    "Line plots connect points in order and are ideal for trends over a continuous or ordered x‑axis. Here we’ll use Age at diagnosis. \n"
   ]
  },
  {
   "cell_type": "code",
   "execution_count": null,
   "id": "88ff0a19",
   "metadata": {},
   "outputs": [],
   "source": [
    "# Select and sort ages (ascending) and plot cumulative count vs age\n",
    "ages = metabric_patients.loc[:, \"Age_at_diagnosis\"]\n",
    "ages_sorted = ages.sort_values().reset_index(drop=True)\n",
    "\n",
    "# x = age, y = cumulative count (patient index after sorting)\n",
    "plt.plot(ages_sorted.values, range(1, len(ages_sorted) + 1))\n",
    "plt.xlabel(\"Age at diagnosis\")\n",
    "plt.ylabel(\"Patient index (sorted by age)\")\n",
    "plt.title(\"Age at diagnosis (sorted)\")\n",
    "plt.tight_layout()"
   ]
  },
  {
   "cell_type": "markdown",
   "id": "d5cbfa17",
   "metadata": {},
   "source": [
    "To add colour and style:"
   ]
  },
  {
   "cell_type": "code",
   "execution_count": null,
   "id": "094e1393",
   "metadata": {},
   "outputs": [],
   "source": [
    "plt.plot(ages_sorted.values, range(1, len(ages_sorted) + 1), color=\"green\", linewidth=1.8, linestyle=\"-\")\n",
    "plt.xlabel(\"Age at diagnosis\")\n",
    "plt.ylabel(\"Patient index (sorted by age)\")\n",
    "plt.title(\"Age at diagnosis (styled line)\")\n",
    "plt.grid(linestyle=\":\", alpha=0.4)"
   ]
  },
  {
   "cell_type": "markdown",
   "id": "c1f41d8a",
   "metadata": {},
   "source": [
    "## Histogram\n",
    "\n",
    "We’ll look at how tumour sizes are distributed across patients. Histograms help spot skew, multi‑modality, and outliers."
   ]
  },
  {
   "cell_type": "code",
   "execution_count": null,
   "id": "87e53183",
   "metadata": {},
   "outputs": [],
   "source": [
    "# Prepare data (drop missing values)\n",
    "sizes = metabric_patients.loc[:, 'Tumour_size'].dropna()\n",
    "\n",
    "plt.figure(figsize=(6,4))\n",
    "plt.hist(sizes, bins=30, color='slateblue', alpha=0.8, edgecolor='white')\n",
    "plt.xlabel('Tumour size')\n",
    "plt.ylabel('Number of patients')\n",
    "plt.title('Distribution of Tumour Size')\n",
    "plt.grid(alpha=0.2)\n",
    "plt.tight_layout()"
   ]
  }
 ],
 "metadata": {
  "kernelspec": {
   "display_name": "Python 3 (ipykernel)",
   "language": "python",
   "name": "python3"
  },
  "language_info": {
   "codemirror_mode": {
    "name": "ipython",
    "version": 3
   },
   "file_extension": ".py",
   "mimetype": "text/x-python",
   "name": "python",
   "nbconvert_exporter": "python",
   "pygments_lexer": "ipython3",
   "version": "3.12.2"
  }
 },
 "nbformat": 4,
 "nbformat_minor": 5
}
