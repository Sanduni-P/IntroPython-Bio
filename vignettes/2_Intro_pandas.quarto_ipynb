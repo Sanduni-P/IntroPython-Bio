{
  "cells": [
    {
      "cell_type": "markdown",
      "metadata": {},
      "source": [
        "---\n",
        "title: \"Loading Data\"\n",
        "---\n",
        "\n",
        "\n",
        "\n",
        "\n",
        "## Getting started with pandas\n",
        "\n",
        "Pandas is a powerful and widely used library in Python for data manipulation and analysis. It provides versatile data structures, such as DataFrames and Series, along with a variety of functions and methods for efficiently handling and processing structured data. In this session, we explore some functionalities of Pandas library that is useful for biological data analysis.\n",
        "\n",
        "Customarily, we import the library as follows:\n"
      ],
      "id": "3dfa5015"
    },
    {
      "cell_type": "code",
      "metadata": {},
      "source": [
        "import pandas as pd"
      ],
      "id": "7b0deb7e",
      "execution_count": null,
      "outputs": []
    },
    {
      "cell_type": "markdown",
      "metadata": {},
      "source": [
        "To open the help documentation for the `pandas` package, you can use the following code:\n",
        "\n",
        "::: scrolling\n"
      ],
      "id": "f78b1ea9"
    },
    {
      "cell_type": "code",
      "metadata": {},
      "source": [
        "import pandas as pd\n",
        "help(pd)"
      ],
      "id": "4b63abfd",
      "execution_count": null,
      "outputs": []
    },
    {
      "cell_type": "markdown",
      "metadata": {},
      "source": [
        ":::\n",
        "\n",
        "This will display the help documentation for the Pandas library, providing an overview of its functions, modules, and usage.\n",
        "\n",
        "### Basic data structures in pandas\n",
        "\n",
        "Pandas provides two types of classes for handling data: **`Series`** and **`DataFrame`**.\n",
        "\n",
        "### Series\n",
        "\n",
        "`Series` is a one-dimensional labeled array capable of holding any data type (integers, strings, floating point numbers, Python objects, etc.). The axis labels are collectively referred to as the index. The basic method to create a `Series` is to call:\n",
        "\n",
        "``` python\n",
        "s = pd.Series(data, index=index)\n",
        "```\n",
        "\n",
        "Here, **data** can be a Python dict, an ndarray (a multidimensional container of items of the same type and size) or a scalar value. The passed **index** is a list of axis labels.\n",
        "\n",
        "To open the help page for Series, you can use the following code:\n"
      ],
      "id": "553e430a"
    },
    {
      "cell_type": "code",
      "metadata": {},
      "source": [
        "#| eval: false\n",
        "import pandas as pd\n",
        "help(pd.Series)  \n",
        "# or help(pandas.Series)"
      ],
      "id": "4098eb47",
      "execution_count": null,
      "outputs": []
    },
    {
      "cell_type": "markdown",
      "metadata": {},
      "source": [
        "::: scrolling\n"
      ],
      "id": "b7d4ec06"
    },
    {
      "cell_type": "code",
      "metadata": {},
      "source": [
        "#| echo: false\n",
        "import pandas as pd\n",
        "help(pd.Series)  \n",
        "# or help(pandas.Series)"
      ],
      "id": "873dd9df",
      "execution_count": null,
      "outputs": []
    },
    {
      "cell_type": "markdown",
      "metadata": {},
      "source": [
        ":::\n",
        "\n",
        "#### Using a list:\n"
      ],
      "id": "7151a5b6"
    },
    {
      "cell_type": "code",
      "metadata": {},
      "source": [
        "s1 = pd.Series([1, 3, 5, 6, 8])\n",
        "s1"
      ],
      "id": "e556956c",
      "execution_count": null,
      "outputs": []
    },
    {
      "cell_type": "markdown",
      "metadata": {},
      "source": [
        "#### Using a scalar (single value):\n"
      ],
      "id": "3ac4b76f"
    },
    {
      "cell_type": "code",
      "metadata": {},
      "source": [
        "s2 = pd.Series(5.0, index=[\"a\", \"b\", \"c\", \"d\", \"e\"])\n",
        "s2"
      ],
      "id": "1d456778",
      "execution_count": null,
      "outputs": []
    },
    {
      "cell_type": "markdown",
      "metadata": {},
      "source": [
        "#### Using a numpy array:\n",
        "\n",
        "To create a `Series` using ndarray first import numpy library.\n"
      ],
      "id": "5fe2df0f"
    },
    {
      "cell_type": "code",
      "metadata": {},
      "source": [
        "import numpy as np"
      ],
      "id": "f0f0c85b",
      "execution_count": null,
      "outputs": []
    },
    {
      "cell_type": "markdown",
      "metadata": {},
      "source": [
        "NumPy, short for Numerical Python, is a fundamental Python library for scientific computing. It provides support for working with large, multi-dimensional arrays and matrices, as well as a collection of high-level mathematical functions to operate on these arrays.\n"
      ],
      "id": "c3526bf4"
    },
    {
      "cell_type": "code",
      "metadata": {},
      "source": [
        "s3 = pd.Series(np.random.randn(5), index=[\"a\", \"b\", \"c\", \"d\", \"e\"])\n",
        "s3"
      ],
      "id": "56b7b70e",
      "execution_count": null,
      "outputs": []
    },
    {
      "cell_type": "markdown",
      "metadata": {},
      "source": [
        "The np.random module in NumPy is designed for generating pseudo-random numbers, enabling you to extract samples from a wide range of probability distributions. Specifically, the np.random.randn function is used to obtain one or more samples from the \"standard normal\" distribution, characterized by a mean of 0 and a variance of 1.\n",
        "\n",
        "If data is an ndarray, index must be the same length as data. If no index is passed, one will be created having values \\[0, ..., len(data) - 1\\].\n"
      ],
      "id": "04511527"
    },
    {
      "cell_type": "code",
      "metadata": {},
      "source": [
        "s3 = pd.Series(np.random.randn(5))\n",
        "s3"
      ],
      "id": "c1c3b60a",
      "execution_count": null,
      "outputs": []
    },
    {
      "cell_type": "markdown",
      "metadata": {},
      "source": [
        "#### Using a dictionary:\n",
        "\n",
        "`Series` can be instantiated from dicts (recall dictionary from last week) as follows:\n"
      ],
      "id": "13ecd768"
    },
    {
      "cell_type": "code",
      "metadata": {},
      "source": [
        "d = {\"A\": 248, \"C\": 243, \"G\": 266, \"T\": 243}\n",
        "s4 = pd.Series(d)\n",
        "s4"
      ],
      "id": "2bfff01a",
      "execution_count": null,
      "outputs": []
    },
    {
      "cell_type": "code",
      "metadata": {},
      "source": [
        "s4 = pd.Series(dict, index=[\"A\", \"B\", \"C\"])\n",
        "s4"
      ],
      "id": "a23e1e57",
      "execution_count": null,
      "outputs": []
    },
    {
      "cell_type": "markdown",
      "metadata": {},
      "source": [
        "## DataFrame\n",
        "\n",
        "`DataFrame` is a 2-dimensional labeled data structure with columns of potentially different types. You can think of it like a spreadsheet or SQL table, or a dict of Series objects. The `DataFrame` is generally the most commonly used pandas object. It accepts many different types of input including dictionary of 1-D ndarrays, lists, dictionaries or Series, 2-D ndarray, a Series or even another DataFrame.\n",
        "\n",
        "Along with the data, you can optionally pass index (row labels) and columns (column labels) arguments. If you pass an index and/or columns, you are guaranteeing the index and/or columns of the resulting DataFrame.\n",
        "\n",
        "The basic method to create a `DataFrame` is to call:\n",
        "\n",
        "``` python\n",
        "df = pd.DataFrame(data, index=index, columns=columns)\n",
        "```\n",
        "\n",
        "To open the help page for DataFrame, you can use the following code:\n"
      ],
      "id": "3d58e017"
    },
    {
      "cell_type": "code",
      "metadata": {},
      "source": [
        "#| eval: false\n",
        "import pandas as pd\n",
        "help(pd.DataFrame)  \n",
        "# or help(pandas.DataFrame)"
      ],
      "id": "8c5396fa",
      "execution_count": null,
      "outputs": []
    },
    {
      "cell_type": "markdown",
      "metadata": {},
      "source": [
        "::: scrolling\n"
      ],
      "id": "beca8941"
    },
    {
      "cell_type": "code",
      "metadata": {},
      "source": [
        "#| echo: false\n",
        "import pandas as pd\n",
        "help(pd.DataFrame)  \n",
        "# or help(pandas.DataFrame)"
      ],
      "id": "6b009ceb",
      "execution_count": null,
      "outputs": []
    },
    {
      "cell_type": "markdown",
      "metadata": {},
      "source": [
        ":::\n",
        "\n",
        "This will display the help documentation for the `DataFrame` class in Pandas, including information on its methods, attributes, and usage examples.\n",
        "\n",
        "### Creating a `DataFrame` by using a dictionary of `Series`:\n"
      ],
      "id": "f9ba44f5"
    },
    {
      "cell_type": "code",
      "metadata": {},
      "source": [
        "# a dictionary of series\n",
        "d = {\n",
        "    \"Col 1\": pd.Series([1.0, 2.0, 3.0], index=[\"a\", \"b\", \"c\"]),\n",
        "    \"Col 2\": pd.Series([1.0, 2.0, 3.0, 4.0], index=[\"a\", \"b\", \"c\", \"d\"]),\n",
        "}\n",
        "df1 = pd.DataFrame(d)\n",
        "df1"
      ],
      "id": "0aa2aeee",
      "execution_count": null,
      "outputs": []
    },
    {
      "cell_type": "code",
      "metadata": {},
      "source": [
        "# table with rows: d, b  and a of the above dictionary\n",
        "df2 = pd.DataFrame(d, index=[\"d\", \"b\", \"a\"])\n",
        "df2"
      ],
      "id": "5d95c3cc",
      "execution_count": null,
      "outputs": []
    },
    {
      "cell_type": "markdown",
      "metadata": {},
      "source": [
        "Note: **NaN**, standing for **not a number**, is a numeric data type used to represent any value that is undefined. It is by default not included in computations.\n",
        "\n",
        "### Creating a `DataFrame` by using a dictionary of `Series`, lists, ndarrays:\n"
      ],
      "id": "7bfedc2f"
    },
    {
      "cell_type": "code",
      "metadata": {},
      "source": [
        "# a dictionary \n",
        "data = {\n",
        "    'Name': ['Alice', 'Bob', 'Charlie', 'David'],\n",
        "    'Age': pd.Series([25, 30, 35, 40]),\n",
        "    'City': ['New York', 'Los Angeles', 'Chicago', 'Houston'],\n",
        "    'Salary': np.array([50000, 60000, 75000, 90000])\n",
        "}\n",
        "\n",
        "df3 = pd.DataFrame(data)\n",
        "df3"
      ],
      "id": "6fb21d91",
      "execution_count": null,
      "outputs": []
    },
    {
      "cell_type": "markdown",
      "metadata": {},
      "source": [
        "### Indexes and Columns of `DataFrames`\n",
        "\n",
        "Consider the following DataFrame,\n"
      ],
      "id": "6954c459"
    },
    {
      "cell_type": "code",
      "metadata": {},
      "source": [
        "d = {\"one\": [1.0, 2.0, 3.0, 4.0], \"two\": [4.0, 3.0, 2.0, 1.0]}\n",
        "df3 = pd.DataFrame(d, index=[\"a\", \"b\", \"c\", \"d\"])\n",
        "df3"
      ],
      "id": "6e60788f",
      "execution_count": null,
      "outputs": []
    },
    {
      "cell_type": "markdown",
      "metadata": {},
      "source": [
        "To print and update row names:\n"
      ],
      "id": "d0047300"
    },
    {
      "cell_type": "code",
      "metadata": {},
      "source": [
        "df3.index = [\"row 1\", \"row 2\", \"row 3\", \"row 4\"]\n",
        "df3"
      ],
      "id": "3063780d",
      "execution_count": null,
      "outputs": []
    },
    {
      "cell_type": "markdown",
      "metadata": {},
      "source": [
        "To print and update column names:\n"
      ],
      "id": "b56a2f33"
    },
    {
      "cell_type": "code",
      "metadata": {},
      "source": [
        "df3.columns = [\"Column_1\", \"Column_2\"]\n",
        "df3"
      ],
      "id": "a0045abe",
      "execution_count": null,
      "outputs": []
    },
    {
      "cell_type": "markdown",
      "metadata": {},
      "source": [
        "This method is straightforward if you want to rename all columns at once, but make sure the list you provide matches the number of columns in the DataFrame.\n",
        "\n",
        "To rename columns in a DataFrame, you can use the `rename()` method:\n"
      ],
      "id": "b8ddc136"
    },
    {
      "cell_type": "code",
      "metadata": {},
      "source": [
        "# Rename columns using a dictionary\n",
        "df3_renamed = df3.rename(columns={'Column_1': 'new_name1', 'Column_2': 'new_name2'})\n",
        "\n",
        "# Display the updated DataFrame\n",
        "df3_renamed"
      ],
      "id": "86aaf388",
      "execution_count": null,
      "outputs": []
    },
    {
      "cell_type": "markdown",
      "metadata": {},
      "source": [
        "Here the `columns` parameter takes a dictionary where the keys are the old column names and the values are the new column names. This method does **not** modify the original DataFrame unless you specify `inplace=True`.\n",
        "\n",
        "To print the data type of each column:\n"
      ],
      "id": "d12a8e65"
    },
    {
      "cell_type": "code",
      "metadata": {},
      "source": [
        "df = pd.DataFrame(\n",
        "    {\n",
        "        \"A\": np.random.uniform(low=0, high=1, size=12),\n",
        "        \"B\": pd.date_range(start=\"20230102\", periods=12),\n",
        "        \"C\": pd.Series(range(1, 13), index=[\"R1\", \"R2\", \"R3\", \"R4\", \"R5\", \"R6\", \"R7\", \"R8\" ,\"R9\", \"R10\", \"R11\", \"R12\"]),\n",
        "        \"D\": np.random.randint(1, high=100, size=12),\n",
        "        \"E\": pd.Categorical([\"red\", \"green\", \"blue\", \"white\", \"pink\", \"brown\", \"black\", \"purple\", \"orange\", \"grey\", \"violet\", \"yellow\"]),\n",
        "        \"F\": \"foo\",\n",
        "    }, index = [\"R1\", \"R2\", \"R3\", \"R4\", \"R5\", \"R6\", \"R7\", \"R8\" ,\"R9\", \"R10\", \"R11\", \"R12\"]\n",
        ")\n",
        "print(df.dtypes)"
      ],
      "id": "1ce7a7d9",
      "execution_count": null,
      "outputs": []
    },
    {
      "cell_type": "markdown",
      "metadata": {},
      "source": [
        "## Reading and Writing to a file\n",
        "\n",
        "Up to this point, all the data we've been dealing with has been manually entered into our scripts, and the outcomes of our computations have simply been displayed in the terminal. However, in the real world, data will typically be provided by the users of our programs (which could include you!), and we often need to store the results of our analyses in a more permanent location than just printing them to the screen. During this session, we'll explore a few commonly used methods for importing data into our programs by reading/writing files from disk using the pandas library.\n",
        "\n",
        "It's worth noting that there are numerous other ways to access data, such as querying a database or retrieving data from a network, such as the internet. While we won't cover these methods in this session, Python offers excellent support for interacting with databases and networks, either through its standard library or via external modules.\n",
        "\n",
        "### Comma-Seperated Values (CSV) file or Text file\n",
        "\n",
        "Read a CSV or text file:\n",
        "\n",
        "``` python\n",
        "pd.read_csv(\"path_to_file.csv\")\n",
        "\n",
        "# read a text file with values separated by spaces\n",
        "pd.read_csv(\"path_to_file.txt\", sep=' ')\n",
        "```\n",
        "\n",
        "Write a DataFrame `df` to a CSV or text file:\n",
        "\n",
        "``` python\n",
        "df.to_csv(\"path_to_file.csv\")\n",
        "df.to_csv(\"path_to_file.txt\")\n",
        "```\n",
        "\n",
        "### Excel file\n",
        "\n",
        "Read an excel file:\n",
        "\n",
        "``` python\n",
        "pd.read_excel(\"path_to_file.xls\", sheet_name=\"Sheet1\")\n",
        "pd.read_excel(\"path/to/file/name/file_name.csv\")\n",
        "```\n",
        "\n",
        "Write a DataFrame `df` to an excel file:\n",
        "\n",
        "``` python\n",
        "df.to_excel(\"path_to_file.xlsx\", sheet_name=\"Sheet1\")\n",
        "```\n",
        "\n",
        "::: {.callout-tip}\n",
        "### Challenge {.unlisted}\n",
        "\n",
        "**Read the CSV file associated with the Metabric dataset from this link into a Pandas DataFrame named `metabric`: [\"https://zenodo.org/record/6450144/files/metabric_clinical_and_expression_data.csv\"](%22https://zenodo.org/record/6450144/files/metabric_clinical_and_expression_data.csv%22).**\n",
        "\n",
        "::: {.callout-note collapse=\"true\"}\n",
        "### Solution\n"
      ],
      "id": "aaafe343"
    },
    {
      "cell_type": "code",
      "metadata": {},
      "source": [
        "import pandas as pd\n",
        "\n",
        "# Load the Metabric dataset from the URL into a DataFrame\n",
        "metabric = pd.read_csv(\"https://zenodo.org/record/6450144/files/metabric_clinical_and_expression_data.csv\")"
      ],
      "id": "0c1ebcf4",
      "execution_count": null,
      "outputs": []
    },
    {
      "cell_type": "markdown",
      "metadata": {},
      "source": [
        ":::\n",
        "\n",
        ":::\n",
        "\n",
        "## Viewing data\n",
        "\n",
        "The `DataFrame` class offers multiple methods to view and interact with data. Below are some useful methods and how to access their help documentation.\n",
        "\n",
        "To open the help page for any method in the `DataFrame` class, use the following code.\n"
      ],
      "id": "61abe32a"
    },
    {
      "cell_type": "code",
      "metadata": {},
      "source": [
        "#| eval: false\n",
        "import pandas as pd\n",
        "help(pd.DataFrame.method_name)\n",
        "# or help(pandas.DataFrame.method_name)"
      ],
      "id": "23b0c778",
      "execution_count": null,
      "outputs": []
    },
    {
      "cell_type": "markdown",
      "metadata": {},
      "source": [
        "For example, to open the help page for `DataFrame.head()`:\n"
      ],
      "id": "24492b0a"
    },
    {
      "cell_type": "code",
      "metadata": {},
      "source": [
        "#| eval: false\n",
        "import pandas as pd\n",
        "help(pd.DataFrame.head)  \n",
        "# or help(pandas.DataFrame.head)"
      ],
      "id": "54535815",
      "execution_count": null,
      "outputs": []
    },
    {
      "cell_type": "markdown",
      "metadata": {},
      "source": [
        "::: scrolling\n"
      ],
      "id": "c0a307df"
    },
    {
      "cell_type": "code",
      "metadata": {},
      "source": [
        "#| echo: false\n",
        "import pandas as pd\n",
        "help(pd.DataFrame.head)  \n",
        "# or help(pandas.DataFrame.head)"
      ],
      "id": "ec18a606",
      "execution_count": null,
      "outputs": []
    },
    {
      "cell_type": "markdown",
      "metadata": {},
      "source": [
        ":::\n",
        "\n",
        "Similarly, to open the help page for `DataFrame.columns`:\n"
      ],
      "id": "855e5cba"
    },
    {
      "cell_type": "code",
      "metadata": {},
      "source": [
        "#| eval: false\n",
        "import pandas as pd\n",
        "help(pd.DataFrame.columns)  \n",
        "# or help(pandas.DataFrame.columns)"
      ],
      "id": "675d4138",
      "execution_count": null,
      "outputs": []
    },
    {
      "cell_type": "markdown",
      "metadata": {},
      "source": [
        "::: scrolling\n"
      ],
      "id": "c0a42759"
    },
    {
      "cell_type": "code",
      "metadata": {},
      "source": [
        "#| echo: false\n",
        "import pandas as pd\n",
        "help(pd.DataFrame.columns)  \n",
        "# or help(pandas.DataFrame.columns)"
      ],
      "id": "5877c09a",
      "execution_count": null,
      "outputs": []
    },
    {
      "cell_type": "markdown",
      "metadata": {},
      "source": [
        ":::\n",
        "\n",
        "This approach works for any other method or attribute of the `DataFrame` class.\n",
        "\n",
        "-   Use `DataFrame.head()` to view the top rows of the DataFrame. It returns the top 5 rows of the DataFrame.\n"
      ],
      "id": "f1d6ea69"
    },
    {
      "cell_type": "code",
      "metadata": {
        "md-indent": "    "
      },
      "source": [
        "df.head()"
      ],
      "id": "abaf3714",
      "execution_count": null,
      "outputs": []
    },
    {
      "cell_type": "markdown",
      "metadata": {},
      "source": [
        "-   `DataFrame.tail()` shows the last 5 rows of the DataFrame.\n"
      ],
      "id": "f586d3b5"
    },
    {
      "cell_type": "code",
      "metadata": {
        "md-indent": "    "
      },
      "source": [
        "df.tail()"
      ],
      "id": "11a744d8",
      "execution_count": null,
      "outputs": []
    },
    {
      "cell_type": "markdown",
      "metadata": {},
      "source": [
        "-   `DataFrame.index` returns the index (row labels) of the DataFrame.\n"
      ],
      "id": "1e0afd45"
    },
    {
      "cell_type": "code",
      "metadata": {
        "md-indent": "    "
      },
      "source": [
        "df.index"
      ],
      "id": "bc291ca3",
      "execution_count": null,
      "outputs": []
    },
    {
      "cell_type": "markdown",
      "metadata": {},
      "source": [
        "-   `DataFrame.columns` returns the column names of the DataFrame.\n"
      ],
      "id": "d7163b17"
    },
    {
      "cell_type": "code",
      "metadata": {
        "md-indent": "    "
      },
      "source": [
        "df.columns"
      ],
      "id": "9b1e8437",
      "execution_count": null,
      "outputs": []
    },
    {
      "cell_type": "markdown",
      "metadata": {},
      "source": [
        "-   `DataFrame.dtypes` shows the data type of each column in the DataFrame, allowing you to understand what kind of data each column holds (e.g., integers, floats, or strings).\n"
      ],
      "id": "33fc1ba0"
    },
    {
      "cell_type": "code",
      "metadata": {
        "md-indent": "    "
      },
      "source": [
        "df.dtypes"
      ],
      "id": "510cd838",
      "execution_count": null,
      "outputs": []
    },
    {
      "cell_type": "markdown",
      "metadata": {},
      "source": [
        "-   To get the **shape** of the DataFrame (i.e., the number of rows and columns), use:\n"
      ],
      "id": "32016ed1"
    },
    {
      "cell_type": "code",
      "metadata": {
        "md-indent": "    "
      },
      "source": [
        "df.shape"
      ],
      "id": "30db5e7f",
      "execution_count": null,
      "outputs": []
    },
    {
      "cell_type": "markdown",
      "metadata": {},
      "source": [
        "-   To get the **dimensions** of the DataFrame (i.e., the number of axes: rows and columns), use:\n"
      ],
      "id": "69ecf5da"
    },
    {
      "cell_type": "code",
      "metadata": {
        "md-indent": "    "
      },
      "source": [
        "df.ndim"
      ],
      "id": "d9b88ba3",
      "execution_count": null,
      "outputs": []
    },
    {
      "cell_type": "markdown",
      "metadata": {},
      "source": [
        "-   To get the number of **rows** in the DataFrame, use:\n"
      ],
      "id": "78efa428"
    },
    {
      "cell_type": "code",
      "metadata": {
        "md-indent": "    "
      },
      "source": [
        "df.shape[0]"
      ],
      "id": "de5e436c",
      "execution_count": null,
      "outputs": []
    },
    {
      "cell_type": "markdown",
      "metadata": {},
      "source": [
        "-   To get the number of **columns** in the DataFrame, use:\n"
      ],
      "id": "596daf4a"
    },
    {
      "cell_type": "code",
      "metadata": {
        "md-indent": "    "
      },
      "source": [
        "df.shape[1]"
      ],
      "id": "4f011350",
      "execution_count": null,
      "outputs": []
    },
    {
      "cell_type": "markdown",
      "metadata": {},
      "source": [
        "-   To get a NumPy representation of the underlying data without the index or column labels, use:\n"
      ],
      "id": "705278da"
    },
    {
      "cell_type": "code",
      "metadata": {
        "md-indent": "    "
      },
      "source": [
        "df.to_numpy()"
      ],
      "id": "971b1f51",
      "execution_count": null,
      "outputs": []
    },
    {
      "cell_type": "markdown",
      "metadata": {},
      "source": [
        "-   `DataFrame.describe()` provides a quick statistical summary of the data. This summary includes:\n",
        "\n",
        "    -   **count**: The number of rows for each column.\n",
        "    -   **mean**: The average value for each numerical column.\n",
        "    -   **std**: The standard deviation, which measures how spread out the values are.\n",
        "    -   **min**: The minimum value for each column.\n",
        "    -   **percentiles**: Includes the 25th, 50th (median), and 75th percentiles, also known as the 1st, 2nd, and 3rd quartiles.\n",
        "    -   **max**: The maximum value in each column.\n"
      ],
      "id": "60a44dee"
    },
    {
      "cell_type": "code",
      "metadata": {
        "md-indent": "    "
      },
      "source": [
        "df.describe()"
      ],
      "id": "7eec6480",
      "execution_count": null,
      "outputs": []
    },
    {
      "cell_type": "markdown",
      "metadata": {},
      "source": [
        "-   The `DataFrame.info()` method provides a concise summary of the DataFrame's structure. It is particularly useful for quickly inspecting the basic details of a DataFrame, such as its index, column names, data types, and memory usage.\n"
      ],
      "id": "f687e39d"
    },
    {
      "cell_type": "code",
      "metadata": {
        "md-indent": "    "
      },
      "source": [
        "df.info()"
      ],
      "id": "f9cc2087",
      "execution_count": null,
      "outputs": []
    },
    {
      "cell_type": "markdown",
      "metadata": {},
      "source": [
        "-   `DataFrame.t` transpose your data. This results in a DataFrame where the columns of the DataFrame are now rows and the rows are now columns.\n"
      ],
      "id": "78673851"
    },
    {
      "cell_type": "code",
      "metadata": {
        "md-indent": "    "
      },
      "source": [
        "df.T"
      ],
      "id": "f82da43e",
      "execution_count": null,
      "outputs": []
    },
    {
      "cell_type": "markdown",
      "metadata": {},
      "source": [
        "-   `DataFrame.sort_index()` sorts by an axis. If no arguments are provided to this function, it restore to default value where `axis = 0` (same as `axis = 'index'`) (rows).`axis = 1` (same as `axis = 'columns'`) argument sort based on columns. This sorts the column labels rather than values in the table. This function accepts another argument called `ascending` which takes a boolean value (True or False).\n"
      ],
      "id": "e182a282"
    },
    {
      "cell_type": "code",
      "metadata": {
        "md-indent": "    "
      },
      "source": [
        "df.sort_index(axis=1, ascending=False)"
      ],
      "id": "ecceb1a1",
      "execution_count": null,
      "outputs": []
    },
    {
      "cell_type": "markdown",
      "metadata": {},
      "source": [
        "-   `DataFrame.sort_values()` sorts based on columns. The by argument takes a name or list of column names to sort the DataFrame.\n"
      ],
      "id": "f4a26f2f"
    },
    {
      "cell_type": "code",
      "metadata": {
        "md-indent": "    "
      },
      "source": [
        "df.sort_values(by=\"E\")"
      ],
      "id": "97f43b04",
      "execution_count": null,
      "outputs": []
    },
    {
      "cell_type": "markdown",
      "metadata": {},
      "source": [
        "::: {.callout-tip}\n",
        "### Challenge {.unlisted}\n",
        "\n",
        "1.  Print the top 5 and the bottom 5 rows of the `metabric` dataset.\n",
        "2.  Provide a high-level overview of the content and then display the content of the `metabric` dataset.\n",
        "3.  What is the number of rows and columns in the dataset?\n",
        "4.  Sort the dataset based on the `age_at_diagnosis` column.\n",
        "5.  Sort the dataset based on the `Survival_time` column.\n",
        "\n",
        "::: {.callout-note collapse=\"true\"}\n",
        "### Solution\n"
      ],
      "id": "b0e24c57"
    },
    {
      "cell_type": "code",
      "metadata": {},
      "source": [
        "#| eval: false\n",
        "# Print the top 5 rows of the `metabric` dataset\n",
        "metabric.head()\n",
        "\n",
        "# Print the bottom 5 rows of the `metabric` dataset\n",
        "metabric.tail()\n",
        "\n",
        "# high-level overview of the content\n",
        "metabric.info()\n",
        "metabric.describe()\n",
        "\n",
        "# Print the no. of rows (records) and columns (features) in the `metabric` dataset\n",
        "metabric.shape\n",
        "# print number of rows only\n",
        "df.shape[0]\n",
        "# print number of columns only\n",
        "df.shape[1]\n",
        "\n",
        "# Sort based on the `age_at_diagnosis` column\n",
        "df.sort_values(\"age_at_diagnosis)\n",
        "\n",
        "# Sort based on the `Survival_time` column\n",
        "df.sort_values(\"Survival_time)"
      ],
      "id": "85f312c1",
      "execution_count": null,
      "outputs": []
    },
    {
      "cell_type": "markdown",
      "metadata": {},
      "source": [
        ":::\n",
        "\n",
        ":::\n",
        "\n",
        "## Selecting data\n",
        "\n",
        "### Selecting based on labels\n",
        "\n",
        "`DataFrame.loc()` is used to retrieve a group of rows and/or columns by labels in the DataFrame.\n",
        "\n",
        "-   Selecting a row:\n"
      ],
      "id": "d44b76f1"
    },
    {
      "cell_type": "code",
      "metadata": {
        "md-indent": "    "
      },
      "source": [
        "df.loc[\"R5\"]"
      ],
      "id": "c53ae703",
      "execution_count": null,
      "outputs": []
    },
    {
      "cell_type": "markdown",
      "metadata": {},
      "source": [
        "-   Selecting a range of rows:\n"
      ],
      "id": "08de2813"
    },
    {
      "cell_type": "code",
      "metadata": {
        "md-indent": "    "
      },
      "source": [
        "df.loc[[\"R1\", \"R2\", \"R5\"]]"
      ],
      "id": "930f03bc",
      "execution_count": null,
      "outputs": []
    },
    {
      "cell_type": "code",
      "metadata": {
        "md-indent": "    "
      },
      "source": [
        "df.loc[\"R2\":\"R4\"]"
      ],
      "id": "94acf3a7",
      "execution_count": null,
      "outputs": []
    },
    {
      "cell_type": "markdown",
      "metadata": {},
      "source": [
        "-   Selecting a column:\n"
      ],
      "id": "031e6a3c"
    },
    {
      "cell_type": "code",
      "metadata": {
        "md-indent": "    "
      },
      "source": [
        "df.loc[:, \"E\"]"
      ],
      "id": "9feafe22",
      "execution_count": null,
      "outputs": []
    },
    {
      "cell_type": "markdown",
      "metadata": {},
      "source": [
        "-   Selecting a range of columns:\n"
      ],
      "id": "72c34872"
    },
    {
      "cell_type": "code",
      "metadata": {
        "md-indent": "    "
      },
      "source": [
        "df.loc[:, [\"A\",\"C\"]]"
      ],
      "id": "7fe2b9ee",
      "execution_count": null,
      "outputs": []
    },
    {
      "cell_type": "code",
      "metadata": {
        "md-indent": "    "
      },
      "source": [
        "df.loc[:, \"D\":\"F\"]"
      ],
      "id": "4d8a466f",
      "execution_count": null,
      "outputs": []
    },
    {
      "cell_type": "markdown",
      "metadata": {},
      "source": [
        "-   Selecting a row and a column:\n"
      ],
      "id": "d5ed9cb2"
    },
    {
      "cell_type": "code",
      "metadata": {
        "md-indent": "    "
      },
      "source": [
        "df.loc[\"R5\", \"A\"]"
      ],
      "id": "86f03a51",
      "execution_count": null,
      "outputs": []
    },
    {
      "cell_type": "markdown",
      "metadata": {},
      "source": [
        "-   Selecting a range of rows and columns:\n"
      ],
      "id": "bfca77eb"
    },
    {
      "cell_type": "code",
      "metadata": {
        "md-indent": "    "
      },
      "source": [
        "df.loc[\"R3\":\"R5\", \"D\":\"F\"]"
      ],
      "id": "084990a5",
      "execution_count": null,
      "outputs": []
    },
    {
      "cell_type": "code",
      "metadata": {
        "md-indent": "    "
      },
      "source": [
        "df.loc[[\"R3\",\"R2\"], [\"B\",\"D\",\"F\"]]"
      ],
      "id": "d7df54d9",
      "execution_count": null,
      "outputs": []
    },
    {
      "cell_type": "markdown",
      "metadata": {},
      "source": [
        "-   Selecting a scalar using `DataFrame.at()` function:\n"
      ],
      "id": "ce14024b"
    },
    {
      "cell_type": "code",
      "metadata": {
        "md-indent": "    "
      },
      "source": [
        "df.at[\"R1\", \"A\"]"
      ],
      "id": "8ca6f792",
      "execution_count": null,
      "outputs": []
    },
    {
      "cell_type": "markdown",
      "metadata": {},
      "source": [
        "### Selecting based on integer positions\n",
        "\n",
        "`DataFrame.iloc()` is used to retrieve a group of rows and/or columns by integer position in the DataFrame. Note: integer position range from 0 to length-1 of rows or columns.\n",
        "\n",
        "-   Selecting a row:\n"
      ],
      "id": "2cac3319"
    },
    {
      "cell_type": "code",
      "metadata": {
        "md-indent": "    "
      },
      "source": [
        "df.iloc[4]"
      ],
      "id": "bb106448",
      "execution_count": null,
      "outputs": []
    },
    {
      "cell_type": "markdown",
      "metadata": {},
      "source": [
        "-   Selecting a range of rows:\n"
      ],
      "id": "b06fc679"
    },
    {
      "cell_type": "code",
      "metadata": {
        "md-indent": "    "
      },
      "source": [
        "df.iloc[[0, 1, 4]]"
      ],
      "id": "fcd76a02",
      "execution_count": null,
      "outputs": []
    },
    {
      "cell_type": "code",
      "metadata": {
        "md-indent": "    "
      },
      "source": [
        "df.iloc[2:6]"
      ],
      "id": "67683b01",
      "execution_count": null,
      "outputs": []
    },
    {
      "cell_type": "markdown",
      "metadata": {},
      "source": [
        "    -   Select top 3 rows\n"
      ],
      "id": "aa93c9f9"
    },
    {
      "cell_type": "code",
      "metadata": {
        "md-indent": "        "
      },
      "source": [
        "df.iloc[:3]"
      ],
      "id": "65152407",
      "execution_count": null,
      "outputs": []
    },
    {
      "cell_type": "markdown",
      "metadata": {},
      "source": [
        "    -   Select all rows in the ascending order\n"
      ],
      "id": "cc772f49"
    },
    {
      "cell_type": "code",
      "metadata": {
        "md-indent": "        "
      },
      "source": [
        "df.iloc[::-1]"
      ],
      "id": "602ca879",
      "execution_count": null,
      "outputs": []
    },
    {
      "cell_type": "markdown",
      "metadata": {},
      "source": [
        "-   Selecting a column:\n"
      ],
      "id": "b9199e0f"
    },
    {
      "cell_type": "code",
      "metadata": {
        "md-indent": "    "
      },
      "source": [
        "df.iloc[:, 4]"
      ],
      "id": "19b20c35",
      "execution_count": null,
      "outputs": []
    },
    {
      "cell_type": "markdown",
      "metadata": {},
      "source": [
        "-   Selecting a range of columns:\n"
      ],
      "id": "a931bed3"
    },
    {
      "cell_type": "code",
      "metadata": {
        "md-indent": "    "
      },
      "source": [
        "df.iloc[:, [0, 2]]"
      ],
      "id": "aee0b463",
      "execution_count": null,
      "outputs": []
    },
    {
      "cell_type": "code",
      "metadata": {
        "md-indent": "    "
      },
      "source": [
        "df.iloc[:, 2:5]"
      ],
      "id": "e1bfcba5",
      "execution_count": null,
      "outputs": []
    },
    {
      "cell_type": "markdown",
      "metadata": {},
      "source": [
        "-   Selecting a row and a column:\n"
      ],
      "id": "d6b76667"
    },
    {
      "cell_type": "code",
      "metadata": {
        "md-indent": "    "
      },
      "source": [
        "df.iloc[4, 0]"
      ],
      "id": "b542f137",
      "execution_count": null,
      "outputs": []
    },
    {
      "cell_type": "markdown",
      "metadata": {},
      "source": [
        "-   Selecting a range of rows and columns:\n"
      ],
      "id": "d94af9bb"
    },
    {
      "cell_type": "code",
      "metadata": {
        "md-indent": "    "
      },
      "source": [
        "df.iloc[2:5, 3:6]"
      ],
      "id": "30b81fda",
      "execution_count": null,
      "outputs": []
    },
    {
      "cell_type": "code",
      "metadata": {
        "md-indent": "    "
      },
      "source": [
        "df.iloc[[1,3,5], [2,4]]"
      ],
      "id": "fe9791f4",
      "execution_count": null,
      "outputs": []
    },
    {
      "cell_type": "markdown",
      "metadata": {},
      "source": [
        "-   Selecting a scalar using `DataFrame.iat()` function:\n"
      ],
      "id": "63df5664"
    },
    {
      "cell_type": "code",
      "metadata": {
        "md-indent": "    "
      },
      "source": [
        "df.iat[0, 1]"
      ],
      "id": "e55b90e0",
      "execution_count": null,
      "outputs": []
    },
    {
      "cell_type": "markdown",
      "metadata": {},
      "source": [
        "### Subset Variables - columns\n",
        "\n",
        "![](images/subset-columns.png){width=\"500\" fig-align=\"center\"}\n",
        "\n",
        "You can pass a list of columns to `[]` to select columns in that order.\n",
        "\n",
        "-   Select a single column by name\n"
      ],
      "id": "9dacef6e"
    },
    {
      "cell_type": "code",
      "metadata": {
        "md-indent": "    "
      },
      "source": [
        "df[\"E\"]"
      ],
      "id": "affb76d4",
      "execution_count": null,
      "outputs": []
    },
    {
      "cell_type": "code",
      "metadata": {
        "md-indent": "    "
      },
      "source": [
        "df.E"
      ],
      "id": "dcee6c3b",
      "execution_count": null,
      "outputs": []
    },
    {
      "cell_type": "markdown",
      "metadata": {},
      "source": [
        "-   Select a range of columns with specific names\n"
      ],
      "id": "a538f7d0"
    },
    {
      "cell_type": "code",
      "metadata": {
        "md-indent": "    "
      },
      "source": [
        "df[[\"A\",\"C\"]]"
      ],
      "id": "e4b132a6",
      "execution_count": null,
      "outputs": []
    },
    {
      "cell_type": "markdown",
      "metadata": {},
      "source": [
        "-   To subset a DataFrame while excluding specific columns\n"
      ],
      "id": "35f83d0a"
    },
    {
      "cell_type": "code",
      "metadata": {
        "md-indent": "    "
      },
      "source": [
        "df.drop(columns=[\"A\",\"B\"])"
      ],
      "id": "abf9c789",
      "execution_count": null,
      "outputs": []
    },
    {
      "cell_type": "code",
      "metadata": {
        "md-indent": "    "
      },
      "source": [
        "df.drop([\"C\",\"E\", \"F\"], axis=1)"
      ],
      "id": "79e00cd7",
      "execution_count": null,
      "outputs": []
    },
    {
      "cell_type": "markdown",
      "metadata": {},
      "source": [
        "### Subset Observations - rows\n",
        "\n",
        "![](images/subset-rows.png){width=\"500\" fig-align=\"center\"}\n",
        "\n",
        "With DataFrame, slicing inside of `[]` **slices the rows**. This is provided largely as a convenience since it is such a common operation.\n",
        "\n",
        "-   Select the first row\n"
      ],
      "id": "a1a2ebd6"
    },
    {
      "cell_type": "code",
      "metadata": {
        "md-indent": "    "
      },
      "source": [
        "df[:1]"
      ],
      "id": "7a904a87",
      "execution_count": null,
      "outputs": []
    },
    {
      "cell_type": "markdown",
      "metadata": {},
      "source": [
        "-   Select the first five row\n"
      ],
      "id": "f4266317"
    },
    {
      "cell_type": "code",
      "metadata": {
        "md-indent": "    "
      },
      "source": [
        "df[:5]"
      ],
      "id": "c569768c",
      "execution_count": null,
      "outputs": []
    },
    {
      "cell_type": "markdown",
      "metadata": {},
      "source": [
        "-   Select a range of rows\n"
      ],
      "id": "b4224764"
    },
    {
      "cell_type": "code",
      "metadata": {
        "md-indent": "    "
      },
      "source": [
        "df[3:6]"
      ],
      "id": "a6bf2d50",
      "execution_count": null,
      "outputs": []
    },
    {
      "cell_type": "markdown",
      "metadata": {},
      "source": [
        "-   Select the last row\n"
      ],
      "id": "504922f5"
    },
    {
      "cell_type": "code",
      "metadata": {
        "md-indent": "    "
      },
      "source": [
        "df[-1:]"
      ],
      "id": "d7ea4219",
      "execution_count": null,
      "outputs": []
    },
    {
      "cell_type": "markdown",
      "metadata": {},
      "source": [
        "-   Select the last three row\n"
      ],
      "id": "d36669fc"
    },
    {
      "cell_type": "code",
      "metadata": {
        "md-indent": "    "
      },
      "source": [
        "df[-3:]"
      ],
      "id": "ce1fa07c",
      "execution_count": null,
      "outputs": []
    },
    {
      "cell_type": "markdown",
      "metadata": {},
      "source": [
        "-   Select a range of rows\n"
      ],
      "id": "3d5524aa"
    },
    {
      "cell_type": "code",
      "metadata": {
        "md-indent": "    "
      },
      "source": [
        "df[-5:-2]"
      ],
      "id": "b109448f",
      "execution_count": null,
      "outputs": []
    },
    {
      "cell_type": "markdown",
      "metadata": {},
      "source": [
        "-   Select all rows in the ascending order\n"
      ],
      "id": "74edc8ea"
    },
    {
      "cell_type": "code",
      "metadata": {
        "md-indent": "    "
      },
      "source": [
        "df[::-1]"
      ],
      "id": "236ef136",
      "execution_count": null,
      "outputs": []
    },
    {
      "cell_type": "markdown",
      "metadata": {},
      "source": [
        "### Subset by condition\n",
        "\n",
        "Extract rows that meet a logical criteria.\n",
        "\n",
        "-   Select rows where values in column C is greater than 6\n"
      ],
      "id": "0e6c394c"
    },
    {
      "cell_type": "code",
      "metadata": {
        "md-indent": "    "
      },
      "source": [
        "above_6 = df[\"C\"] > 6 # expression over the dataframe that returns a boolean vector \n",
        "print(above_6)\n",
        "df[above_6]"
      ],
      "id": "d355b748",
      "execution_count": null,
      "outputs": []
    },
    {
      "cell_type": "markdown",
      "metadata": {},
      "source": [
        "-   Select rows where values in column D is less than or equal to 50\n"
      ],
      "id": "708e94ae"
    },
    {
      "cell_type": "code",
      "metadata": {
        "md-indent": "    "
      },
      "source": [
        "df[df[\"D\"]<= 50]"
      ],
      "id": "d8590462",
      "execution_count": null,
      "outputs": []
    },
    {
      "cell_type": "code",
      "metadata": {
        "md-indent": "    "
      },
      "source": [
        "df[df.D <= 50]"
      ],
      "id": "d468d530",
      "execution_count": null,
      "outputs": []
    },
    {
      "cell_type": "markdown",
      "metadata": {},
      "source": [
        "-   Using `isin()` function for filtering:\n"
      ],
      "id": "aa5bd246"
    },
    {
      "cell_type": "code",
      "metadata": {
        "md-indent": "    "
      },
      "source": [
        "# select the rows with values orange and yellow\n",
        "df[df[\"E\"].isin([\"yellow\", \"orange\"])]"
      ],
      "id": "609afa9b",
      "execution_count": null,
      "outputs": []
    },
    {
      "cell_type": "markdown",
      "metadata": {},
      "source": [
        "-   Select rows with Column E is equal to `pink` or `blue`\n"
      ],
      "id": "d045150c"
    },
    {
      "cell_type": "code",
      "metadata": {
        "md-indent": "    "
      },
      "source": [
        "df[df.E.isin([\"pink\", \"blue\"])]"
      ],
      "id": "859ce107",
      "execution_count": null,
      "outputs": []
    },
    {
      "cell_type": "markdown",
      "metadata": {},
      "source": [
        "-   Remove duplicate rows (only considers columns).\n"
      ],
      "id": "c1222e1e"
    },
    {
      "cell_type": "code",
      "metadata": {
        "md-indent": "    "
      },
      "source": [
        "# Add a duplicate row (e.g., duplicating row \"R5\") to df\n",
        "df = pd.concat([df, df.loc[[\"R5\"]]])\n",
        "df"
      ],
      "id": "fcd48a3b",
      "execution_count": null,
      "outputs": []
    },
    {
      "cell_type": "code",
      "metadata": {
        "md-indent": "    "
      },
      "source": [
        "df = df.drop_duplicates()\n",
        "df"
      ],
      "id": "0f243fc5",
      "execution_count": null,
      "outputs": []
    },
    {
      "cell_type": "markdown",
      "metadata": {},
      "source": [
        "-   Randomly select n rows.\n"
      ],
      "id": "f6a7cf57"
    },
    {
      "cell_type": "code",
      "metadata": {
        "md-indent": "    "
      },
      "source": [
        "df.sample(n=10) "
      ],
      "id": "3ef52258",
      "execution_count": null,
      "outputs": []
    },
    {
      "cell_type": "markdown",
      "metadata": {},
      "source": [
        "-   Randomly select fraction of rows.\n"
      ],
      "id": "9a907e0e"
    },
    {
      "cell_type": "code",
      "metadata": {
        "md-indent": "    "
      },
      "source": [
        "df.sample(frac=0.5)"
      ],
      "id": "e360a639",
      "execution_count": null,
      "outputs": []
    },
    {
      "cell_type": "markdown",
      "metadata": {},
      "source": [
        "-   Select and order top n entries.\n"
      ],
      "id": "889d0e9e"
    },
    {
      "cell_type": "code",
      "metadata": {
        "md-indent": "    "
      },
      "source": [
        "df.nlargest(3, 'D')"
      ],
      "id": "b59c4c4b",
      "execution_count": null,
      "outputs": []
    },
    {
      "cell_type": "markdown",
      "metadata": {},
      "source": [
        "-   Select and order bottom n entries.\n"
      ],
      "id": "6f7beef2"
    },
    {
      "cell_type": "code",
      "metadata": {
        "md-indent": "    "
      },
      "source": [
        "df.nsmallest(5, 'A')"
      ],
      "id": "aa909468",
      "execution_count": null,
      "outputs": []
    },
    {
      "cell_type": "markdown",
      "metadata": {},
      "source": [
        "-   To subset a DataFrame while excluding specific rows\n"
      ],
      "id": "102f36e7"
    },
    {
      "cell_type": "code",
      "metadata": {
        "md-indent": "    "
      },
      "source": [
        "df.drop(index=[\"R1\",\"R2\",\"R3\"])"
      ],
      "id": "eb1a88ef",
      "execution_count": null,
      "outputs": []
    },
    {
      "cell_type": "code",
      "metadata": {
        "md-indent": "    "
      },
      "source": [
        "df.drop([\"R2\",\"R4\",\"R6\",\"R8\"], axis=0)"
      ],
      "id": "85158eca",
      "execution_count": null,
      "outputs": []
    },
    {
      "cell_type": "markdown",
      "metadata": {},
      "source": [
        "### `filter` Function\n",
        "\n",
        "The `filter()` function is used to **subset rows or columns** based on labels, such as column names or index labels. It is not used for filtering based on the actual values within the DataFrame but rather for subsetting by selecting specific rows or columns.\n",
        "\n",
        "``` python\n",
        "DataFrame.filter(items=None, like=None, regex=None, axis=None)\n",
        "```\n",
        "\n",
        "-   **items**: List of labels to filter based on.\n",
        "-   **like**: Substring used to filter column or row names containing the provided string.\n",
        "-   **regex**: Regular expression to filter column or row names.\n",
        "-   **axis**: Specifies whether to filter on columns (`axis=1`) or rows (`axis=0`).\n",
        "\n",
        "Load the `cms_hospital_patient_satisfaction.csv` file from the data folder into a DataFrame named `cms`, which will be used for the following examples.\n"
      ],
      "id": "ff3c7f06"
    },
    {
      "cell_type": "code",
      "metadata": {},
      "source": [
        "cms = pd.read_csv('data/patient_satisfaction/cms_hospital_patient_satisfaction.csv')"
      ],
      "id": "2b34dc9c",
      "execution_count": null,
      "outputs": []
    },
    {
      "cell_type": "markdown",
      "metadata": {},
      "source": [
        "1.  **Filter by Specific Column Names**: Select columns \"Facility Name\" and \"Overall Rating\".\n"
      ],
      "id": "bb0b30a4"
    },
    {
      "cell_type": "code",
      "metadata": {
        "md-indent": "    "
      },
      "source": [
        "cms.filter(items=['Facility Name', 'Overall Rating'], axis=1)"
      ],
      "id": "e6848006",
      "execution_count": null,
      "outputs": []
    },
    {
      "cell_type": "markdown",
      "metadata": {},
      "source": [
        "2.  **Filter by Row Index Labels**: Select rows with index labels 1,3, 5.\n"
      ],
      "id": "27c53259"
    },
    {
      "cell_type": "code",
      "metadata": {
        "md-indent": "    "
      },
      "source": [
        "cms.filter(items=[1,3,5], axis=0)"
      ],
      "id": "bbce64dd",
      "execution_count": null,
      "outputs": []
    },
    {
      "cell_type": "markdown",
      "metadata": {},
      "source": [
        "3.  **Filter Columns by Substring**: Select columns whose names contain the substring `\"Rating\"`.\n"
      ],
      "id": "ab21608a"
    },
    {
      "cell_type": "code",
      "metadata": {
        "md-indent": "    "
      },
      "source": [
        "cms.filter(like=\"Rating\", axis=1)"
      ],
      "id": "d48ee082",
      "execution_count": null,
      "outputs": []
    },
    {
      "cell_type": "markdown",
      "metadata": {},
      "source": [
        "4.  **Filter Columns by Regular Expression**: Select columns whose names start with the letter `\"N\"`.\n"
      ],
      "id": "c030baab"
    },
    {
      "cell_type": "code",
      "metadata": {
        "md-indent": "    "
      },
      "source": [
        "cms.filter(regex=\"^N\", axis=1)"
      ],
      "id": "b07fbb3d",
      "execution_count": null,
      "outputs": []
    },
    {
      "cell_type": "markdown",
      "metadata": {},
      "source": [
        "5.  **Filter Rows by Regular Expression**: Select rows whose index has two digits.\n"
      ],
      "id": "8c783aa6"
    },
    {
      "cell_type": "code",
      "metadata": {
        "md-indent": "    "
      },
      "source": [
        "cms.filter(regex=\"\\d{2}\", axis=0)"
      ],
      "id": "dd3702cc",
      "execution_count": null,
      "outputs": []
    },
    {
      "cell_type": "markdown",
      "metadata": {},
      "source": [
        "### `query()` Function\n",
        "\n",
        "The `query()` function allows you to **filter rows** based on specific conditions applied to the values within the DataFrame. It enables writing SQL-like queries on a DataFrame using column names as variables.\n",
        "\n",
        "``` python\n",
        "DataFrame.query(expr, inplace=False, **kwargs)\n",
        "```\n",
        "\n",
        "-   **expr**: A string expression used for filtering.\n",
        "-   **inplace**: Whether to perform the operation in place.\n",
        "-   **kwargs**: Additional arguments (e.g., to pass column names with spaces).\n",
        "\n",
        "1.  **Filter Rows Based on a Condition**: Select rows where the value in column `\"Overall Rating\"` is greater than 2.\n"
      ],
      "id": "7feced22"
    },
    {
      "cell_type": "code",
      "metadata": {
        "md-indent": "    "
      },
      "source": [
        "cms.query(\"`Overall Rating` > 2\")"
      ],
      "id": "eb310cfa",
      "execution_count": null,
      "outputs": []
    },
    {
      "cell_type": "markdown",
      "metadata": {},
      "source": [
        "2.  **Filter Rows Based on Multiple Conditions**: Select rows where `\"Overall Rating\"` is greater than 2 and the `\"Response Rate\"` is less than 30.\n"
      ],
      "id": "826c3204"
    },
    {
      "cell_type": "code",
      "metadata": {
        "md-indent": "    "
      },
      "source": [
        "cms.query(\"`Overall Rating` > 2 and `Response Rate` < 30\")"
      ],
      "id": "0642e225",
      "execution_count": null,
      "outputs": []
    },
    {
      "cell_type": "markdown",
      "metadata": {},
      "source": [
        "3.  **Filter Using a String Condition**: Select rows where `\"County\"` is equal to `\"LOS ANGELES\"`.\n"
      ],
      "id": "00c2f1b4"
    },
    {
      "cell_type": "code",
      "metadata": {
        "md-indent": "    "
      },
      "source": [
        "cms.query(\"County == 'LOS ANGELES'\")"
      ],
      "id": "e86c4a40",
      "execution_count": null,
      "outputs": []
    },
    {
      "cell_type": "markdown",
      "metadata": {},
      "source": [
        "4.  **Filter Rows Using `or` Condition**: Select rows where `\"Star Rating\"` or `\"`Overall Rating\"\\` is greater than 3.\n"
      ],
      "id": "686b1452"
    },
    {
      "cell_type": "code",
      "metadata": {
        "md-indent": "    "
      },
      "source": [
        "cms.query(\"`Star Rating` > 3 or `Overall Rating` > 3\")"
      ],
      "id": "7d9d0196",
      "execution_count": null,
      "outputs": []
    },
    {
      "cell_type": "markdown",
      "metadata": {},
      "source": [
        "5.  **Use Variable Inside `query()`**: Use a variable to filter rows dynamically.\n"
      ],
      "id": "0a8d0844"
    },
    {
      "cell_type": "code",
      "metadata": {
        "md-indent": "    "
      },
      "source": [
        "threshold = 25\n",
        "cms.query(\"`Response Rate` > @threshold\")"
      ],
      "id": "5a126ce6",
      "execution_count": null,
      "outputs": []
    },
    {
      "cell_type": "markdown",
      "metadata": {},
      "source": [
        "6.  **Filter Rows Based on Index**: Filter based on the index:\n"
      ],
      "id": "5ba4da80"
    },
    {
      "cell_type": "code",
      "metadata": {
        "md-indent": "    "
      },
      "source": [
        "cms.query('index == 5')"
      ],
      "id": "33682cc0",
      "execution_count": null,
      "outputs": []
    },
    {
      "cell_type": "markdown",
      "metadata": {},
      "source": [
        "## Setting data\n",
        "\n",
        "Once a subset of data is filtered using any of the methods discussed before the assignment operator can be used to assign different data. A few examples is shown below.\n",
        "\n",
        "Consider the following DataFrame for the examples listed below,\n"
      ],
      "id": "f200019a"
    },
    {
      "cell_type": "code",
      "metadata": {},
      "source": [
        "df"
      ],
      "id": "1251488b",
      "execution_count": null,
      "outputs": []
    },
    {
      "cell_type": "markdown",
      "metadata": {},
      "source": [
        "-   Update a single cell in the DataFrame:\n"
      ],
      "id": "4a18b70e"
    },
    {
      "cell_type": "code",
      "metadata": {
        "md-indent": "    "
      },
      "source": [
        "df.at[\"R1\", \"A\"] = 1.0\n",
        "df.head()"
      ],
      "id": "2b39946a",
      "execution_count": null,
      "outputs": []
    },
    {
      "cell_type": "markdown",
      "metadata": {},
      "source": [
        "-   Update multiple cells in the DataFrame:\n"
      ],
      "id": "a34ed52b"
    },
    {
      "cell_type": "code",
      "metadata": {
        "md-indent": "    "
      },
      "source": [
        "# select the rows with values orange and yellow\n",
        "df_sub = df[df.E.isin([\"yellow\", \"orange\"])]\n",
        "\n",
        "df_sub[\"E\"] = [\"red\", \"green\"]\n",
        "df_sub"
      ],
      "id": "afab1994",
      "execution_count": null,
      "outputs": []
    },
    {
      "cell_type": "markdown",
      "metadata": {},
      "source": [
        "    The above command shows a warning which says that we are trying to set (or update) values of a copy of a DataFrame rather than the original DataFrame. Recall that `df_sub[\"E\"] = df[df[\"E\"].isin([\"yellow\", \"orange\"])]`, that means we are trying to update yellow and orange in the DataFrame to red and green. However, since we are updating a copy of the DataFrame, row R9 and R12 of the DataFrame `df` is not still updated as shown below.\n"
      ],
      "id": "3a8d1846"
    },
    {
      "cell_type": "code",
      "metadata": {
        "md-indent": "    "
      },
      "source": [
        "df"
      ],
      "id": "1c1aa8db",
      "execution_count": null,
      "outputs": []
    },
    {
      "cell_type": "markdown",
      "metadata": {},
      "source": [
        "    If we want to update the original DataFrame, we should set as follows.\n"
      ],
      "id": "c2d61c93"
    },
    {
      "cell_type": "code",
      "metadata": {
        "md-indent": "    "
      },
      "source": [
        "df.loc[df.E.isin([\"yellow\", \"orange\"]), \"E\"] = [\"red\", \"green\"]\n",
        "df"
      ],
      "id": "19ce2aa4",
      "execution_count": null,
      "outputs": []
    },
    {
      "cell_type": "markdown",
      "metadata": {},
      "source": [
        "-   Another useful function within this library is the `replace()` function which find a value(s) on a DataFrame and replace it with another value on all columns and rows.\\\n"
      ],
      "id": "89d63deb"
    },
    {
      "cell_type": "code",
      "metadata": {
        "md-indent": "    "
      },
      "source": [
        "df.replace('red', 'blue')"
      ],
      "id": "0f57d5d8",
      "execution_count": null,
      "outputs": []
    },
    {
      "cell_type": "markdown",
      "metadata": {},
      "source": [
        "-   Adding a new row to the DataFrame:\n"
      ],
      "id": "895f1873"
    },
    {
      "cell_type": "code",
      "metadata": {
        "md-indent": "    "
      },
      "source": [
        "# Add a new row using `loc[]`\n",
        "df.loc['R15'] = [0.891133, pd.to_datetime(\"2023-01-16\"), 13, 30, 'blue', 'foo']\n",
        "df"
      ],
      "id": "d68848ac",
      "execution_count": null,
      "outputs": []
    },
    {
      "cell_type": "code",
      "metadata": {
        "md-indent": "    "
      },
      "source": [
        "# Add a new row using `append()`\n",
        "new_row = pd.DataFrame({'A': [0.425755], 'B': pd.to_datetime(\"2023-01-17\")}, index=['R17'])\n",
        "df = pd.concat([df, new_row])\n",
        "df"
      ],
      "id": "c6a233d7",
      "execution_count": null,
      "outputs": []
    },
    {
      "cell_type": "markdown",
      "metadata": {},
      "source": [
        "-   Setting values in a categorical column works as long as the value is included in the categories:\n"
      ],
      "id": "a768eeb8"
    },
    {
      "cell_type": "code",
      "metadata": {
        "md-indent": "    "
      },
      "source": [
        "#| error: true\n",
        "# assign a column as a categorical column\n",
        "cms['Hospital Type'] = pd.Categorical(cms['Hospital Type']) \n",
        "\n",
        "# update a value\n",
        "cms.loc[1, 'Hospital Type'] = 'Specialty Hospital'"
      ],
      "id": "e51f17cc",
      "execution_count": null,
      "outputs": []
    },
    {
      "cell_type": "markdown",
      "metadata": {},
      "source": [
        "    This result in an error stating that Python cannot set item on a Categorical column with a new category (Specialty Hospital), that is not defined. To fix this error you can define the categories explicitly as follows:\n"
      ],
      "id": "d9ba6bf1"
    },
    {
      "cell_type": "code",
      "metadata": {
        "md-indent": "    "
      },
      "source": [
        "# Define a categorical column with fixed categories\n",
        "cms['Hospital Type'] = pd.Categorical(cms['Hospital Type'], categories=['Acute Care Hospital', 'Critical Access Hospital', 'Specialty Hospital']) \n",
        "\n",
        "# update a value\n",
        "cms.loc[1, 'Hospital Type'] = 'Specialty Hospital'\n",
        "\n",
        "cms"
      ],
      "id": "d016ed0d",
      "execution_count": null,
      "outputs": []
    },
    {
      "cell_type": "markdown",
      "metadata": {},
      "source": [
        "This concludes the introduction to the Pandas section. In the next section, we will dive into data manipulation using Pandas. We will explore various functions within this library to generate basic statistics, providing a clearer understanding of the underlying data.\n",
        "\n",
        "\n",
        "\n",
        "\n",
        "---"
      ],
      "id": "e821a995"
    }
  ],
  "metadata": {
    "kernelspec": {
      "name": "quarto-bio",
      "language": "python",
      "display_name": "Python (quarto-bio)",
      "path": "/Users/rajapaksasandun/Library/Jupyter/kernels/quarto-bio"
    }
  },
  "nbformat": 4,
  "nbformat_minor": 5
}